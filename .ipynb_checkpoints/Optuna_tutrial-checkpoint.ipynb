{
 "cells": [
  {
   "cell_type": "code",
   "execution_count": 1,
   "metadata": {},
   "outputs": [],
   "source": [
    "import optuna\n",
    "\n",
    "\n",
    "def objective(trial):\n",
    "    x = trial.suggest_uniform('x',-10,10)\n",
    "    return (x-2)**2"
   ]
  },
  {
   "cell_type": "code",
   "execution_count": 7,
   "metadata": {},
   "outputs": [
    {
     "name": "stderr",
     "output_type": "stream",
     "text": [
      "[I 2019-09-30 21:52:42,393] Finished trial#0 resulted in value: 116.70937481622832. Current best value is 116.70937481622832 with parameters: {'x': -8.803211319613641}.\n",
      "[I 2019-09-30 21:52:42,457] Finished trial#1 resulted in value: 27.482573030319166. Current best value is 27.482573030319166 with parameters: {'x': 7.242382381162134}.\n",
      "[I 2019-09-30 21:52:42,525] Finished trial#2 resulted in value: 143.3069192068143. Current best value is 27.482573030319166 with parameters: {'x': 7.242382381162134}.\n",
      "[I 2019-09-30 21:52:42,592] Finished trial#3 resulted in value: 4.1897777524469895. Current best value is 4.1897777524469895 with parameters: {'x': -0.04689466080865756}.\n",
      "[I 2019-09-30 21:52:42,645] Finished trial#4 resulted in value: 1.2196484638035796. Current best value is 1.2196484638035796 with parameters: {'x': 3.104376957294736}.\n",
      "[I 2019-09-30 21:52:42,701] Finished trial#5 resulted in value: 6.615866167289129. Current best value is 1.2196484638035796 with parameters: {'x': 3.104376957294736}.\n",
      "[I 2019-09-30 21:52:42,753] Finished trial#6 resulted in value: 7.3783333256783195. Current best value is 1.2196484638035796 with parameters: {'x': 3.104376957294736}.\n",
      "[I 2019-09-30 21:52:42,805] Finished trial#7 resulted in value: 57.50570498257028. Current best value is 1.2196484638035796 with parameters: {'x': 3.104376957294736}.\n",
      "[I 2019-09-30 21:52:42,861] Finished trial#8 resulted in value: 9.500611300018594. Current best value is 1.2196484638035796 with parameters: {'x': 3.104376957294736}.\n",
      "[I 2019-09-30 21:52:42,913] Finished trial#9 resulted in value: 57.16598935285274. Current best value is 1.2196484638035796 with parameters: {'x': 3.104376957294736}.\n",
      "[I 2019-09-30 21:52:42,984] Finished trial#10 resulted in value: 25.017883631957304. Current best value is 1.2196484638035796 with parameters: {'x': 3.104376957294736}.\n",
      "[I 2019-09-30 21:52:43,065] Finished trial#11 resulted in value: 0.047801520537408576. Current best value is 0.047801520537408576 with parameters: {'x': 1.781364411548786}.\n",
      "[I 2019-09-30 21:52:43,152] Finished trial#12 resulted in value: 2.260622078793661. Current best value is 0.047801520537408576 with parameters: {'x': 1.781364411548786}.\n",
      "[I 2019-09-30 21:52:43,227] Finished trial#13 resulted in value: 0.14902936345911938. Current best value is 0.047801520537408576 with parameters: {'x': 1.781364411548786}.\n",
      "[I 2019-09-30 21:52:43,281] Finished trial#14 resulted in value: 0.07635809084113675. Current best value is 0.047801520537408576 with parameters: {'x': 1.781364411548786}.\n",
      "[I 2019-09-30 21:52:43,343] Finished trial#15 resulted in value: 21.23336799405891. Current best value is 0.047801520537408576 with parameters: {'x': 1.781364411548786}.\n",
      "[I 2019-09-30 21:52:43,400] Finished trial#16 resulted in value: 27.26693895673157. Current best value is 0.047801520537408576 with parameters: {'x': 1.781364411548786}.\n",
      "[I 2019-09-30 21:52:43,489] Finished trial#17 resulted in value: 14.853862235148911. Current best value is 0.047801520537408576 with parameters: {'x': 1.781364411548786}.\n",
      "[I 2019-09-30 21:52:43,603] Finished trial#18 resulted in value: 57.38120566702671. Current best value is 0.047801520537408576 with parameters: {'x': 1.781364411548786}.\n",
      "[I 2019-09-30 21:52:43,684] Finished trial#19 resulted in value: 0.22313932578542114. Current best value is 0.047801520537408576 with parameters: {'x': 1.781364411548786}.\n",
      "[I 2019-09-30 21:52:43,756] Finished trial#20 resulted in value: 44.21464317798325. Current best value is 0.047801520537408576 with parameters: {'x': 1.781364411548786}.\n",
      "[I 2019-09-30 21:52:43,823] Finished trial#21 resulted in value: 0.31869841167504787. Current best value is 0.047801520537408576 with parameters: {'x': 1.781364411548786}.\n",
      "[I 2019-09-30 21:52:43,895] Finished trial#22 resulted in value: 0.06912255706384077. Current best value is 0.047801520537408576 with parameters: {'x': 1.781364411548786}.\n",
      "[I 2019-09-30 21:52:43,962] Finished trial#23 resulted in value: 16.20278603955344. Current best value is 0.047801520537408576 with parameters: {'x': 1.781364411548786}.\n",
      "[I 2019-09-30 21:52:44,044] Finished trial#24 resulted in value: 0.7864384226738494. Current best value is 0.047801520537408576 with parameters: {'x': 1.781364411548786}.\n",
      "[I 2019-09-30 21:52:44,122] Finished trial#25 resulted in value: 9.726139759723893. Current best value is 0.047801520537408576 with parameters: {'x': 1.781364411548786}.\n",
      "[I 2019-09-30 21:52:44,179] Finished trial#26 resulted in value: 1.3965055244535485. Current best value is 0.047801520537408576 with parameters: {'x': 1.781364411548786}.\n",
      "[I 2019-09-30 21:52:44,238] Finished trial#27 resulted in value: 3.654243086083535. Current best value is 0.047801520537408576 with parameters: {'x': 1.781364411548786}.\n",
      "[I 2019-09-30 21:52:44,308] Finished trial#28 resulted in value: 0.07763869540043167. Current best value is 0.047801520537408576 with parameters: {'x': 1.781364411548786}.\n",
      "[I 2019-09-30 21:52:44,406] Finished trial#29 resulted in value: 55.56454016207704. Current best value is 0.047801520537408576 with parameters: {'x': 1.781364411548786}.\n",
      "[I 2019-09-30 21:52:44,499] Finished trial#30 resulted in value: 3.132256174430141. Current best value is 0.047801520537408576 with parameters: {'x': 1.781364411548786}.\n",
      "[I 2019-09-30 21:52:44,592] Finished trial#31 resulted in value: 0.29724711335639875. Current best value is 0.047801520537408576 with parameters: {'x': 1.781364411548786}.\n",
      "[I 2019-09-30 21:52:44,684] Finished trial#32 resulted in value: 15.337690447842535. Current best value is 0.047801520537408576 with parameters: {'x': 1.781364411548786}.\n",
      "[I 2019-09-30 21:52:44,791] Finished trial#33 resulted in value: 0.09543618480885434. Current best value is 0.047801520537408576 with parameters: {'x': 1.781364411548786}.\n",
      "[I 2019-09-30 21:52:44,870] Finished trial#34 resulted in value: 6.0706939533913635. Current best value is 0.047801520537408576 with parameters: {'x': 1.781364411548786}.\n",
      "[I 2019-09-30 21:52:44,952] Finished trial#35 resulted in value: 2.5516089269142213. Current best value is 0.047801520537408576 with parameters: {'x': 1.781364411548786}.\n",
      "[I 2019-09-30 21:52:45,043] Finished trial#36 resulted in value: 9.788086077961216. Current best value is 0.047801520537408576 with parameters: {'x': 1.781364411548786}.\n",
      "[I 2019-09-30 21:52:45,104] Finished trial#37 resulted in value: 31.11202934105998. Current best value is 0.047801520537408576 with parameters: {'x': 1.781364411548786}.\n",
      "[I 2019-09-30 21:52:45,163] Finished trial#38 resulted in value: 0.026176418831984762. Current best value is 0.026176418831984762 with parameters: {'x': 1.8382087183066258}.\n",
      "[I 2019-09-30 21:52:45,220] Finished trial#39 resulted in value: 3.1831546465643776. Current best value is 0.026176418831984762 with parameters: {'x': 1.8382087183066258}.\n",
      "[I 2019-09-30 21:52:45,290] Finished trial#40 resulted in value: 25.863703262387958. Current best value is 0.026176418831984762 with parameters: {'x': 1.8382087183066258}.\n",
      "[I 2019-09-30 21:52:45,357] Finished trial#41 resulted in value: 0.02474123153023491. Current best value is 0.02474123153023491 with parameters: {'x': 2.1572934567305166}.\n",
      "[I 2019-09-30 21:52:45,421] Finished trial#42 resulted in value: 2.633605047169246. Current best value is 0.02474123153023491 with parameters: {'x': 2.1572934567305166}.\n",
      "[I 2019-09-30 21:52:45,482] Finished trial#43 resulted in value: 7.780386431718108. Current best value is 0.02474123153023491 with parameters: {'x': 2.1572934567305166}.\n",
      "[I 2019-09-30 21:52:45,556] Finished trial#44 resulted in value: 0.4081801396533029. Current best value is 0.02474123153023491 with parameters: {'x': 2.1572934567305166}.\n",
      "[I 2019-09-30 21:52:45,636] Finished trial#45 resulted in value: 10.411364351626137. Current best value is 0.02474123153023491 with parameters: {'x': 2.1572934567305166}.\n",
      "[I 2019-09-30 21:52:45,717] Finished trial#46 resulted in value: 0.8380302722403303. Current best value is 0.02474123153023491 with parameters: {'x': 2.1572934567305166}.\n",
      "[I 2019-09-30 21:52:45,784] Finished trial#47 resulted in value: 4.9207427391394. Current best value is 0.02474123153023491 with parameters: {'x': 2.1572934567305166}.\n",
      "[I 2019-09-30 21:52:45,852] Finished trial#48 resulted in value: 5.363972310059336. Current best value is 0.02474123153023491 with parameters: {'x': 2.1572934567305166}.\n",
      "[I 2019-09-30 21:52:45,918] Finished trial#49 resulted in value: 108.83448343764923. Current best value is 0.02474123153023491 with parameters: {'x': 2.1572934567305166}.\n",
      "[I 2019-09-30 21:52:45,983] Finished trial#50 resulted in value: 15.69865859315624. Current best value is 0.02474123153023491 with parameters: {'x': 2.1572934567305166}.\n",
      "[I 2019-09-30 21:52:46,047] Finished trial#51 resulted in value: 0.004625042817249369. Current best value is 0.004625042817249369 with parameters: {'x': 1.9319923326583732}.\n",
      "[I 2019-09-30 21:52:46,108] Finished trial#52 resulted in value: 0.0009034470770961395. Current best value is 0.0009034470770961395 with parameters: {'x': 1.9699426036208034}.\n",
      "[I 2019-09-30 21:52:46,165] Finished trial#53 resulted in value: 1.1506950004045007. Current best value is 0.0009034470770961395 with parameters: {'x': 1.9699426036208034}.\n",
      "[I 2019-09-30 21:52:46,224] Finished trial#54 resulted in value: 0.011483158508729453. Current best value is 0.0009034470770961395 with parameters: {'x': 1.9699426036208034}.\n",
      "[I 2019-09-30 21:52:46,282] Finished trial#55 resulted in value: 1.5274117002308363. Current best value is 0.0009034470770961395 with parameters: {'x': 1.9699426036208034}.\n",
      "[I 2019-09-30 21:52:46,343] Finished trial#56 resulted in value: 0.03679441542964889. Current best value is 0.0009034470770961395 with parameters: {'x': 1.9699426036208034}.\n",
      "[I 2019-09-30 21:52:46,438] Finished trial#57 resulted in value: 0.13004268851067788. Current best value is 0.0009034470770961395 with parameters: {'x': 1.9699426036208034}.\n",
      "[I 2019-09-30 21:52:46,508] Finished trial#58 resulted in value: 11.494828640310404. Current best value is 0.0009034470770961395 with parameters: {'x': 1.9699426036208034}.\n",
      "[I 2019-09-30 21:52:46,604] Finished trial#59 resulted in value: 1.1044347412779942. Current best value is 0.0009034470770961395 with parameters: {'x': 1.9699426036208034}.\n",
      "[I 2019-09-30 21:52:46,707] Finished trial#60 resulted in value: 2.686891960161434. Current best value is 0.0009034470770961395 with parameters: {'x': 1.9699426036208034}.\n",
      "[I 2019-09-30 21:52:46,779] Finished trial#61 resulted in value: 0.24004233640498582. Current best value is 0.0009034470770961395 with parameters: {'x': 1.9699426036208034}.\n",
      "[I 2019-09-30 21:52:46,842] Finished trial#62 resulted in value: 4.280004345753304e-06. Current best value is 4.280004345753304e-06 with parameters: {'x': 1.997931182863143}.\n",
      "[I 2019-09-30 21:52:46,906] Finished trial#63 resulted in value: 0.9580810992563412. Current best value is 4.280004345753304e-06 with parameters: {'x': 1.997931182863143}.\n",
      "[I 2019-09-30 21:52:46,964] Finished trial#64 resulted in value: 0.015997808726439276. Current best value is 4.280004345753304e-06 with parameters: {'x': 1.997931182863143}.\n",
      "[I 2019-09-30 21:52:47,026] Finished trial#65 resulted in value: 1.3160297794192757. Current best value is 4.280004345753304e-06 with parameters: {'x': 1.997931182863143}.\n",
      "[I 2019-09-30 21:52:47,095] Finished trial#66 resulted in value: 3.7429616141793605. Current best value is 4.280004345753304e-06 with parameters: {'x': 1.997931182863143}.\n",
      "[I 2019-09-30 21:52:47,159] Finished trial#67 resulted in value: 4.750922978128597. Current best value is 4.280004345753304e-06 with parameters: {'x': 1.997931182863143}.\n",
      "[I 2019-09-30 21:52:47,231] Finished trial#68 resulted in value: 5.974905273954761. Current best value is 4.280004345753304e-06 with parameters: {'x': 1.997931182863143}.\n",
      "[I 2019-09-30 21:52:47,296] Finished trial#69 resulted in value: 0.00023447802324694987. Current best value is 4.280004345753304e-06 with parameters: {'x': 1.997931182863143}.\n",
      "[I 2019-09-30 21:52:47,366] Finished trial#70 resulted in value: 0.5654040292890996. Current best value is 4.280004345753304e-06 with parameters: {'x': 1.997931182863143}.\n",
      "[I 2019-09-30 21:52:47,432] Finished trial#71 resulted in value: 0.03859407750143734. Current best value is 4.280004345753304e-06 with parameters: {'x': 1.997931182863143}.\n",
      "[I 2019-09-30 21:52:47,500] Finished trial#72 resulted in value: 0.0010478093845156234. Current best value is 4.280004345753304e-06 with parameters: {'x': 1.997931182863143}.\n",
      "[I 2019-09-30 21:52:47,572] Finished trial#73 resulted in value: 1.6176286710449308. Current best value is 4.280004345753304e-06 with parameters: {'x': 1.997931182863143}.\n",
      "[I 2019-09-30 21:52:47,667] Finished trial#74 resulted in value: 1.9259242986426512. Current best value is 4.280004345753304e-06 with parameters: {'x': 1.997931182863143}.\n",
      "[I 2019-09-30 21:52:47,742] Finished trial#75 resulted in value: 0.6177213828030798. Current best value is 4.280004345753304e-06 with parameters: {'x': 1.997931182863143}.\n",
      "[I 2019-09-30 21:52:47,822] Finished trial#76 resulted in value: 0.040928171602821535. Current best value is 4.280004345753304e-06 with parameters: {'x': 1.997931182863143}.\n",
      "[I 2019-09-30 21:52:47,908] Finished trial#77 resulted in value: 6.4354617444085385. Current best value is 4.280004345753304e-06 with parameters: {'x': 1.997931182863143}.\n",
      "[I 2019-09-30 21:52:48,013] Finished trial#78 resulted in value: 2.245453697058848. Current best value is 4.280004345753304e-06 with parameters: {'x': 1.997931182863143}.\n",
      "[I 2019-09-30 21:52:48,109] Finished trial#79 resulted in value: 0.39331192436917517. Current best value is 4.280004345753304e-06 with parameters: {'x': 1.997931182863143}.\n",
      "[I 2019-09-30 21:52:48,175] Finished trial#80 resulted in value: 8.158355061756712. Current best value is 4.280004345753304e-06 with parameters: {'x': 1.997931182863143}.\n",
      "[I 2019-09-30 21:52:48,258] Finished trial#81 resulted in value: 0.02095777552084495. Current best value is 4.280004345753304e-06 with parameters: {'x': 1.997931182863143}.\n",
      "[I 2019-09-30 21:52:48,345] Finished trial#82 resulted in value: 0.030238094014320968. Current best value is 4.280004345753304e-06 with parameters: {'x': 1.997931182863143}.\n",
      "[I 2019-09-30 21:52:48,423] Finished trial#83 resulted in value: 1.4341744168378259. Current best value is 4.280004345753304e-06 with parameters: {'x': 1.997931182863143}.\n",
      "[I 2019-09-30 21:52:48,493] Finished trial#84 resulted in value: 0.04739771141981508. Current best value is 4.280004345753304e-06 with parameters: {'x': 1.997931182863143}.\n",
      "[I 2019-09-30 21:52:48,572] Finished trial#85 resulted in value: 3.8990075388322207. Current best value is 4.280004345753304e-06 with parameters: {'x': 1.997931182863143}.\n",
      "[I 2019-09-30 21:52:48,660] Finished trial#86 resulted in value: 0.47372394386214944. Current best value is 4.280004345753304e-06 with parameters: {'x': 1.997931182863143}.\n",
      "[I 2019-09-30 21:52:48,750] Finished trial#87 resulted in value: 3.1252278369088424. Current best value is 4.280004345753304e-06 with parameters: {'x': 1.997931182863143}.\n",
      "[I 2019-09-30 21:52:48,836] Finished trial#88 resulted in value: 0.0018089815894654835. Current best value is 4.280004345753304e-06 with parameters: {'x': 1.997931182863143}.\n",
      "[I 2019-09-30 21:52:48,912] Finished trial#89 resulted in value: 0.42987149864355206. Current best value is 4.280004345753304e-06 with parameters: {'x': 1.997931182863143}.\n",
      "[I 2019-09-30 21:52:48,992] Finished trial#90 resulted in value: 0.7056998532717725. Current best value is 4.280004345753304e-06 with parameters: {'x': 1.997931182863143}.\n",
      "[I 2019-09-30 21:52:49,064] Finished trial#91 resulted in value: 0.016154569284843247. Current best value is 4.280004345753304e-06 with parameters: {'x': 1.997931182863143}.\n",
      "[I 2019-09-30 21:52:49,135] Finished trial#92 resulted in value: 0.11995776876185262. Current best value is 4.280004345753304e-06 with parameters: {'x': 1.997931182863143}.\n",
      "[I 2019-09-30 21:52:49,203] Finished trial#93 resulted in value: 1.1857979978716797. Current best value is 4.280004345753304e-06 with parameters: {'x': 1.997931182863143}.\n",
      "[I 2019-09-30 21:52:49,275] Finished trial#94 resulted in value: 2.125765752622718. Current best value is 4.280004345753304e-06 with parameters: {'x': 1.997931182863143}.\n"
     ]
    },
    {
     "name": "stderr",
     "output_type": "stream",
     "text": [
      "[I 2019-09-30 21:52:49,347] Finished trial#95 resulted in value: 4.434711729032731. Current best value is 4.280004345753304e-06 with parameters: {'x': 1.997931182863143}.\n",
      "[I 2019-09-30 21:52:49,423] Finished trial#96 resulted in value: 2.5824949099227843. Current best value is 4.280004345753304e-06 with parameters: {'x': 1.997931182863143}.\n",
      "[I 2019-09-30 21:52:49,488] Finished trial#97 resulted in value: 0.27168201896199984. Current best value is 4.280004345753304e-06 with parameters: {'x': 1.997931182863143}.\n",
      "[I 2019-09-30 21:52:49,550] Finished trial#98 resulted in value: 13.049850852163912. Current best value is 4.280004345753304e-06 with parameters: {'x': 1.997931182863143}.\n",
      "[I 2019-09-30 21:52:49,620] Finished trial#99 resulted in value: 1.1173091894638764e-11. Current best value is 1.1173091894638764e-11 with parameters: {'x': 1.9999966573824786}.\n"
     ]
    }
   ],
   "source": [
    "study = optuna.create_study()#pruner指定できる\n",
    "study.optimize(objective, n_trials=100)"
   ]
  },
  {
   "cell_type": "code",
   "execution_count": 8,
   "metadata": {},
   "outputs": [
    {
     "data": {
      "text/plain": [
       "{'x': 1.9999966573824786}"
      ]
     },
     "execution_count": 8,
     "metadata": {},
     "output_type": "execute_result"
    }
   ],
   "source": [
    "study.best_params"
   ]
  },
  {
   "cell_type": "code",
   "execution_count": 9,
   "metadata": {},
   "outputs": [
    {
     "data": {
      "text/plain": [
       "1.1173091894638764e-11"
      ]
     },
     "execution_count": 9,
     "metadata": {},
     "output_type": "execute_result"
    }
   ],
   "source": [
    "study.best_value"
   ]
  },
  {
   "cell_type": "code",
   "execution_count": 11,
   "metadata": {},
   "outputs": [
    {
     "data": {
      "text/plain": [
       "FrozenTrial(number=99, state=<TrialState.COMPLETE: 1>, value=1.1173091894638764e-11, datetime_start=datetime.datetime(2019, 9, 30, 21, 52, 49, 554478), datetime_complete=datetime.datetime(2019, 9, 30, 21, 52, 49, 611586), params={'x': 1.9999966573824786}, distributions={'x': UniformDistribution(low=-10, high=10)}, user_attrs={}, system_attrs={'_number': 99}, intermediate_values={}, trial_id=99)"
      ]
     },
     "execution_count": 11,
     "metadata": {},
     "output_type": "execute_result"
    }
   ],
   "source": [
    "study.best_trial"
   ]
  },
  {
   "cell_type": "code",
   "execution_count": 12,
   "metadata": {},
   "outputs": [
    {
     "data": {
      "text/plain": [
       "[FrozenTrial(number=0, state=<TrialState.COMPLETE: 1>, value=116.70937481622832, datetime_start=datetime.datetime(2019, 9, 30, 21, 52, 42, 342039), datetime_complete=datetime.datetime(2019, 9, 30, 21, 52, 42, 393608), params={'x': -8.803211319613641}, distributions={'x': UniformDistribution(low=-10, high=10)}, user_attrs={}, system_attrs={'_number': 0}, intermediate_values={}, trial_id=0),\n",
       " FrozenTrial(number=1, state=<TrialState.COMPLETE: 1>, value=27.482573030319166, datetime_start=datetime.datetime(2019, 9, 30, 21, 52, 42, 396575), datetime_complete=datetime.datetime(2019, 9, 30, 21, 52, 42, 456968), params={'x': 7.242382381162134}, distributions={'x': UniformDistribution(low=-10, high=10)}, user_attrs={}, system_attrs={'_number': 1}, intermediate_values={}, trial_id=1),\n",
       " FrozenTrial(number=2, state=<TrialState.COMPLETE: 1>, value=143.3069192068143, datetime_start=datetime.datetime(2019, 9, 30, 21, 52, 42, 461899), datetime_complete=datetime.datetime(2019, 9, 30, 21, 52, 42, 524668), params={'x': -9.971086801406726}, distributions={'x': UniformDistribution(low=-10, high=10)}, user_attrs={}, system_attrs={'_number': 2}, intermediate_values={}, trial_id=2),\n",
       " FrozenTrial(number=3, state=<TrialState.COMPLETE: 1>, value=4.1897777524469895, datetime_start=datetime.datetime(2019, 9, 30, 21, 52, 42, 528460), datetime_complete=datetime.datetime(2019, 9, 30, 21, 52, 42, 592262), params={'x': -0.04689466080865756}, distributions={'x': UniformDistribution(low=-10, high=10)}, user_attrs={}, system_attrs={'_number': 3}, intermediate_values={}, trial_id=3),\n",
       " FrozenTrial(number=4, state=<TrialState.COMPLETE: 1>, value=1.2196484638035796, datetime_start=datetime.datetime(2019, 9, 30, 21, 52, 42, 598270), datetime_complete=datetime.datetime(2019, 9, 30, 21, 52, 42, 645307), params={'x': 3.104376957294736}, distributions={'x': UniformDistribution(low=-10, high=10)}, user_attrs={}, system_attrs={'_number': 4}, intermediate_values={}, trial_id=4),\n",
       " FrozenTrial(number=5, state=<TrialState.COMPLETE: 1>, value=6.615866167289129, datetime_start=datetime.datetime(2019, 9, 30, 21, 52, 42, 648586), datetime_complete=datetime.datetime(2019, 9, 30, 21, 52, 42, 700621), params={'x': -0.5721326107510727}, distributions={'x': UniformDistribution(low=-10, high=10)}, user_attrs={}, system_attrs={'_number': 5}, intermediate_values={}, trial_id=5),\n",
       " FrozenTrial(number=6, state=<TrialState.COMPLETE: 1>, value=7.3783333256783195, datetime_start=datetime.datetime(2019, 9, 30, 21, 52, 42, 705071), datetime_complete=datetime.datetime(2019, 9, 30, 21, 52, 42, 751990), params={'x': 4.716308768472082}, distributions={'x': UniformDistribution(low=-10, high=10)}, user_attrs={}, system_attrs={'_number': 6}, intermediate_values={}, trial_id=6),\n",
       " FrozenTrial(number=7, state=<TrialState.COMPLETE: 1>, value=57.50570498257028, datetime_start=datetime.datetime(2019, 9, 30, 21, 52, 42, 756771), datetime_complete=datetime.datetime(2019, 9, 30, 21, 52, 42, 804203), params={'x': -5.583251610132047}, distributions={'x': UniformDistribution(low=-10, high=10)}, user_attrs={}, system_attrs={'_number': 7}, intermediate_values={}, trial_id=7),\n",
       " FrozenTrial(number=8, state=<TrialState.COMPLETE: 1>, value=9.500611300018594, datetime_start=datetime.datetime(2019, 9, 30, 21, 52, 42, 808327), datetime_complete=datetime.datetime(2019, 9, 30, 21, 52, 42, 861155), params={'x': 5.082306165847026}, distributions={'x': UniformDistribution(low=-10, high=10)}, user_attrs={}, system_attrs={'_number': 8}, intermediate_values={}, trial_id=8),\n",
       " FrozenTrial(number=9, state=<TrialState.COMPLETE: 1>, value=57.16598935285274, datetime_start=datetime.datetime(2019, 9, 30, 21, 52, 42, 865154), datetime_complete=datetime.datetime(2019, 9, 30, 21, 52, 42, 912932), params={'x': 9.56081935724249}, distributions={'x': UniformDistribution(low=-10, high=10)}, user_attrs={}, system_attrs={'_number': 9}, intermediate_values={}, trial_id=9),\n",
       " FrozenTrial(number=10, state=<TrialState.COMPLETE: 1>, value=25.017883631957304, datetime_start=datetime.datetime(2019, 9, 30, 21, 52, 42, 916827), datetime_complete=datetime.datetime(2019, 9, 30, 21, 52, 42, 982509), params={'x': -3.0017880434857798}, distributions={'x': UniformDistribution(low=-10, high=10)}, user_attrs={}, system_attrs={'_number': 10}, intermediate_values={}, trial_id=10),\n",
       " FrozenTrial(number=11, state=<TrialState.COMPLETE: 1>, value=0.047801520537408576, datetime_start=datetime.datetime(2019, 9, 30, 21, 52, 42, 990825), datetime_complete=datetime.datetime(2019, 9, 30, 21, 52, 43, 63943), params={'x': 1.781364411548786}, distributions={'x': UniformDistribution(low=-10, high=10)}, user_attrs={}, system_attrs={'_number': 11}, intermediate_values={}, trial_id=11),\n",
       " FrozenTrial(number=12, state=<TrialState.COMPLETE: 1>, value=2.260622078793661, datetime_start=datetime.datetime(2019, 9, 30, 21, 52, 43, 73088), datetime_complete=datetime.datetime(2019, 9, 30, 21, 52, 43, 151921), params={'x': 3.503536523930716}, distributions={'x': UniformDistribution(low=-10, high=10)}, user_attrs={}, system_attrs={'_number': 12}, intermediate_values={}, trial_id=12),\n",
       " FrozenTrial(number=13, state=<TrialState.COMPLETE: 1>, value=0.14902936345911938, datetime_start=datetime.datetime(2019, 9, 30, 21, 52, 43, 158696), datetime_complete=datetime.datetime(2019, 9, 30, 21, 52, 43, 226529), params={'x': 1.6139567855030743}, distributions={'x': UniformDistribution(low=-10, high=10)}, user_attrs={}, system_attrs={'_number': 13}, intermediate_values={}, trial_id=13),\n",
       " FrozenTrial(number=14, state=<TrialState.COMPLETE: 1>, value=0.07635809084113675, datetime_start=datetime.datetime(2019, 9, 30, 21, 52, 43, 234325), datetime_complete=datetime.datetime(2019, 9, 30, 21, 52, 43, 280696), params={'x': 1.7236703221853709}, distributions={'x': UniformDistribution(low=-10, high=10)}, user_attrs={}, system_attrs={'_number': 14}, intermediate_values={}, trial_id=14),\n",
       " FrozenTrial(number=15, state=<TrialState.COMPLETE: 1>, value=21.23336799405891, datetime_start=datetime.datetime(2019, 9, 30, 21, 52, 43, 288590), datetime_complete=datetime.datetime(2019, 9, 30, 21, 52, 43, 342026), params={'x': -2.6079678811878573}, distributions={'x': UniformDistribution(low=-10, high=10)}, user_attrs={}, system_attrs={'_number': 15}, intermediate_values={}, trial_id=15),\n",
       " FrozenTrial(number=16, state=<TrialState.COMPLETE: 1>, value=27.26693895673157, datetime_start=datetime.datetime(2019, 9, 30, 21, 52, 43, 347229), datetime_complete=datetime.datetime(2019, 9, 30, 21, 52, 43, 398353), params={'x': 7.22177546019853}, distributions={'x': UniformDistribution(low=-10, high=10)}, user_attrs={}, system_attrs={'_number': 16}, intermediate_values={}, trial_id=16),\n",
       " FrozenTrial(number=17, state=<TrialState.COMPLETE: 1>, value=14.853862235148911, datetime_start=datetime.datetime(2019, 9, 30, 21, 52, 43, 404904), datetime_complete=datetime.datetime(2019, 9, 30, 21, 52, 43, 487083), params={'x': -1.8540708653511953}, distributions={'x': UniformDistribution(low=-10, high=10)}, user_attrs={}, system_attrs={'_number': 17}, intermediate_values={}, trial_id=17),\n",
       " FrozenTrial(number=18, state=<TrialState.COMPLETE: 1>, value=57.38120566702671, datetime_start=datetime.datetime(2019, 9, 30, 21, 52, 43, 494583), datetime_complete=datetime.datetime(2019, 9, 30, 21, 52, 43, 600822), params={'x': -5.575038327759584}, distributions={'x': UniformDistribution(low=-10, high=10)}, user_attrs={}, system_attrs={'_number': 18}, intermediate_values={}, trial_id=18),\n",
       " FrozenTrial(number=19, state=<TrialState.COMPLETE: 1>, value=0.22313932578542114, datetime_start=datetime.datetime(2019, 9, 30, 21, 52, 43, 611270), datetime_complete=datetime.datetime(2019, 9, 30, 21, 52, 43, 681962), params={'x': 1.5276237455317836}, distributions={'x': UniformDistribution(low=-10, high=10)}, user_attrs={}, system_attrs={'_number': 19}, intermediate_values={}, trial_id=19),\n",
       " FrozenTrial(number=20, state=<TrialState.COMPLETE: 1>, value=44.21464317798325, datetime_start=datetime.datetime(2019, 9, 30, 21, 52, 43, 689965), datetime_complete=datetime.datetime(2019, 9, 30, 21, 52, 43, 753045), params={'x': -4.6494092352616745}, distributions={'x': UniformDistribution(low=-10, high=10)}, user_attrs={}, system_attrs={'_number': 20}, intermediate_values={}, trial_id=20),\n",
       " FrozenTrial(number=21, state=<TrialState.COMPLETE: 1>, value=0.31869841167504787, datetime_start=datetime.datetime(2019, 9, 30, 21, 52, 43, 761442), datetime_complete=datetime.datetime(2019, 9, 30, 21, 52, 43, 821042), params={'x': 1.4354661997054137}, distributions={'x': UniformDistribution(low=-10, high=10)}, user_attrs={}, system_attrs={'_number': 21}, intermediate_values={}, trial_id=21),\n",
       " FrozenTrial(number=22, state=<TrialState.COMPLETE: 1>, value=0.06912255706384077, datetime_start=datetime.datetime(2019, 9, 30, 21, 52, 43, 829311), datetime_complete=datetime.datetime(2019, 9, 30, 21, 52, 43, 893278), params={'x': 1.7370883093815706}, distributions={'x': UniformDistribution(low=-10, high=10)}, user_attrs={}, system_attrs={'_number': 22}, intermediate_values={}, trial_id=22),\n",
       " FrozenTrial(number=23, state=<TrialState.COMPLETE: 1>, value=16.20278603955344, datetime_start=datetime.datetime(2019, 9, 30, 21, 52, 43, 899581), datetime_complete=datetime.datetime(2019, 9, 30, 21, 52, 43, 959515), params={'x': 6.025268443166672}, distributions={'x': UniformDistribution(low=-10, high=10)}, user_attrs={}, system_attrs={'_number': 23}, intermediate_values={}, trial_id=23),\n",
       " FrozenTrial(number=24, state=<TrialState.COMPLETE: 1>, value=0.7864384226738494, datetime_start=datetime.datetime(2019, 9, 30, 21, 52, 43, 972693), datetime_complete=datetime.datetime(2019, 9, 30, 21, 52, 44, 41050), params={'x': 2.8868136346909927}, distributions={'x': UniformDistribution(low=-10, high=10)}, user_attrs={}, system_attrs={'_number': 24}, intermediate_values={}, trial_id=24),\n",
       " FrozenTrial(number=25, state=<TrialState.COMPLETE: 1>, value=9.726139759723893, datetime_start=datetime.datetime(2019, 9, 30, 21, 52, 44, 51024), datetime_complete=datetime.datetime(2019, 9, 30, 21, 52, 44, 119117), params={'x': -1.118675962603985}, distributions={'x': UniformDistribution(low=-10, high=10)}, user_attrs={}, system_attrs={'_number': 25}, intermediate_values={}, trial_id=25),\n",
       " FrozenTrial(number=26, state=<TrialState.COMPLETE: 1>, value=1.3965055244535485, datetime_start=datetime.datetime(2019, 9, 30, 21, 52, 44, 129239), datetime_complete=datetime.datetime(2019, 9, 30, 21, 52, 44, 177797), params={'x': 0.8182616514415942}, distributions={'x': UniformDistribution(low=-10, high=10)}, user_attrs={}, system_attrs={'_number': 26}, intermediate_values={}, trial_id=26),\n",
       " FrozenTrial(number=27, state=<TrialState.COMPLETE: 1>, value=3.654243086083535, datetime_start=datetime.datetime(2019, 9, 30, 21, 52, 44, 184342), datetime_complete=datetime.datetime(2019, 9, 30, 21, 52, 44, 236176), params={'x': 3.911607461296261}, distributions={'x': UniformDistribution(low=-10, high=10)}, user_attrs={}, system_attrs={'_number': 27}, intermediate_values={}, trial_id=27),\n",
       " FrozenTrial(number=28, state=<TrialState.COMPLETE: 1>, value=0.07763869540043167, datetime_start=datetime.datetime(2019, 9, 30, 21, 52, 44, 241980), datetime_complete=datetime.datetime(2019, 9, 30, 21, 52, 44, 304509), params={'x': 2.278637211083573}, distributions={'x': UniformDistribution(low=-10, high=10)}, user_attrs={}, system_attrs={'_number': 28}, intermediate_values={}, trial_id=28),\n",
       " FrozenTrial(number=29, state=<TrialState.COMPLETE: 1>, value=55.56454016207704, datetime_start=datetime.datetime(2019, 9, 30, 21, 52, 44, 315562), datetime_complete=datetime.datetime(2019, 9, 30, 21, 52, 44, 402426), params={'x': 9.45416260636143}, distributions={'x': UniformDistribution(low=-10, high=10)}, user_attrs={}, system_attrs={'_number': 29}, intermediate_values={}, trial_id=29),\n",
       " FrozenTrial(number=30, state=<TrialState.COMPLETE: 1>, value=3.132256174430141, datetime_start=datetime.datetime(2019, 9, 30, 21, 52, 44, 418751), datetime_complete=datetime.datetime(2019, 9, 30, 21, 52, 44, 494338), params={'x': 0.23018188097473113}, distributions={'x': UniformDistribution(low=-10, high=10)}, user_attrs={}, system_attrs={'_number': 30}, intermediate_values={}, trial_id=30),\n",
       " FrozenTrial(number=31, state=<TrialState.COMPLETE: 1>, value=0.29724711335639875, datetime_start=datetime.datetime(2019, 9, 30, 21, 52, 44, 508838), datetime_complete=datetime.datetime(2019, 9, 30, 21, 52, 44, 586458), params={'x': 2.545203735640539}, distributions={'x': UniformDistribution(low=-10, high=10)}, user_attrs={}, system_attrs={'_number': 31}, intermediate_values={}, trial_id=31),\n",
       " FrozenTrial(number=32, state=<TrialState.COMPLETE: 1>, value=15.337690447842535, datetime_start=datetime.datetime(2019, 9, 30, 21, 52, 44, 603473), datetime_complete=datetime.datetime(2019, 9, 30, 21, 52, 44, 682360), params={'x': 5.916336355299751}, distributions={'x': UniformDistribution(low=-10, high=10)}, user_attrs={}, system_attrs={'_number': 32}, intermediate_values={}, trial_id=32),\n",
       " FrozenTrial(number=33, state=<TrialState.COMPLETE: 1>, value=0.09543618480885434, datetime_start=datetime.datetime(2019, 9, 30, 21, 52, 44, 692617), datetime_complete=datetime.datetime(2019, 9, 30, 21, 52, 44, 787889), params={'x': 2.308927474998347}, distributions={'x': UniformDistribution(low=-10, high=10)}, user_attrs={}, system_attrs={'_number': 33}, intermediate_values={}, trial_id=33),\n",
       " FrozenTrial(number=34, state=<TrialState.COMPLETE: 1>, value=6.0706939533913635, datetime_start=datetime.datetime(2019, 9, 30, 21, 52, 44, 800933), datetime_complete=datetime.datetime(2019, 9, 30, 21, 52, 44, 867755), params={'x': 4.463877828422376}, distributions={'x': UniformDistribution(low=-10, high=10)}, user_attrs={}, system_attrs={'_number': 34}, intermediate_values={}, trial_id=34),\n",
       " FrozenTrial(number=35, state=<TrialState.COMPLETE: 1>, value=2.5516089269142213, datetime_start=datetime.datetime(2019, 9, 30, 21, 52, 44, 881377), datetime_complete=datetime.datetime(2019, 9, 30, 21, 52, 44, 948483), params={'x': 0.402624362614034}, distributions={'x': UniformDistribution(low=-10, high=10)}, user_attrs={}, system_attrs={'_number': 35}, intermediate_values={}, trial_id=35),\n",
       " FrozenTrial(number=36, state=<TrialState.COMPLETE: 1>, value=9.788086077961216, datetime_start=datetime.datetime(2019, 9, 30, 21, 52, 44, 963638), datetime_complete=datetime.datetime(2019, 9, 30, 21, 52, 45, 41258), params={'x': -1.1285917084147008}, distributions={'x': UniformDistribution(low=-10, high=10)}, user_attrs={}, system_attrs={'_number': 36}, intermediate_values={}, trial_id=36),\n",
       " FrozenTrial(number=37, state=<TrialState.COMPLETE: 1>, value=31.11202934105998, datetime_start=datetime.datetime(2019, 9, 30, 21, 52, 45, 49822), datetime_complete=datetime.datetime(2019, 9, 30, 21, 52, 45, 101599), params={'x': 7.577815821722691}, distributions={'x': UniformDistribution(low=-10, high=10)}, user_attrs={}, system_attrs={'_number': 37}, intermediate_values={}, trial_id=37),\n",
       " FrozenTrial(number=38, state=<TrialState.COMPLETE: 1>, value=0.026176418831984762, datetime_start=datetime.datetime(2019, 9, 30, 21, 52, 45, 111782), datetime_complete=datetime.datetime(2019, 9, 30, 21, 52, 45, 160505), params={'x': 1.8382087183066258}, distributions={'x': UniformDistribution(low=-10, high=10)}, user_attrs={}, system_attrs={'_number': 38}, intermediate_values={}, trial_id=38),\n",
       " FrozenTrial(number=39, state=<TrialState.COMPLETE: 1>, value=3.1831546465643776, datetime_start=datetime.datetime(2019, 9, 30, 21, 52, 45, 169830), datetime_complete=datetime.datetime(2019, 9, 30, 21, 52, 45, 217685), params={'x': 0.21586025027063038}, distributions={'x': UniformDistribution(low=-10, high=10)}, user_attrs={}, system_attrs={'_number': 39}, intermediate_values={}, trial_id=39),\n",
       " FrozenTrial(number=40, state=<TrialState.COMPLETE: 1>, value=25.863703262387958, datetime_start=datetime.datetime(2019, 9, 30, 21, 52, 45, 225684), datetime_complete=datetime.datetime(2019, 9, 30, 21, 52, 45, 286395), params={'x': -3.0856369573916655}, distributions={'x': UniformDistribution(low=-10, high=10)}, user_attrs={}, system_attrs={'_number': 40}, intermediate_values={}, trial_id=40),\n",
       " FrozenTrial(number=41, state=<TrialState.COMPLETE: 1>, value=0.02474123153023491, datetime_start=datetime.datetime(2019, 9, 30, 21, 52, 45, 293301), datetime_complete=datetime.datetime(2019, 9, 30, 21, 52, 45, 354410), params={'x': 2.1572934567305166}, distributions={'x': UniformDistribution(low=-10, high=10)}, user_attrs={}, system_attrs={'_number': 41}, intermediate_values={}, trial_id=41),\n",
       " FrozenTrial(number=42, state=<TrialState.COMPLETE: 1>, value=2.633605047169246, datetime_start=datetime.datetime(2019, 9, 30, 21, 52, 45, 364520), datetime_complete=datetime.datetime(2019, 9, 30, 21, 52, 45, 418139), params={'x': 3.6228385770523346}, distributions={'x': UniformDistribution(low=-10, high=10)}, user_attrs={}, system_attrs={'_number': 42}, intermediate_values={}, trial_id=42),\n",
       " FrozenTrial(number=43, state=<TrialState.COMPLETE: 1>, value=7.780386431718108, datetime_start=datetime.datetime(2019, 9, 30, 21, 52, 45, 427062), datetime_complete=datetime.datetime(2019, 9, 30, 21, 52, 45, 478195), params={'x': -0.789334406577689}, distributions={'x': UniformDistribution(low=-10, high=10)}, user_attrs={}, system_attrs={'_number': 43}, intermediate_values={}, trial_id=43),\n",
       " FrozenTrial(number=44, state=<TrialState.COMPLETE: 1>, value=0.4081801396533029, datetime_start=datetime.datetime(2019, 9, 30, 21, 52, 45, 485424), datetime_complete=datetime.datetime(2019, 9, 30, 21, 52, 45, 552257), params={'x': 1.361110228870971}, distributions={'x': UniformDistribution(low=-10, high=10)}, user_attrs={}, system_attrs={'_number': 44}, intermediate_values={}, trial_id=44),\n",
       " FrozenTrial(number=45, state=<TrialState.COMPLETE: 1>, value=10.411364351626137, datetime_start=datetime.datetime(2019, 9, 30, 21, 52, 45, 566537), datetime_complete=datetime.datetime(2019, 9, 30, 21, 52, 45, 632308), params={'x': 5.226664586167291}, distributions={'x': UniformDistribution(low=-10, high=10)}, user_attrs={}, system_attrs={'_number': 45}, intermediate_values={}, trial_id=45),\n",
       " FrozenTrial(number=46, state=<TrialState.COMPLETE: 1>, value=0.8380302722403303, datetime_start=datetime.datetime(2019, 9, 30, 21, 52, 45, 647357), datetime_complete=datetime.datetime(2019, 9, 30, 21, 52, 45, 712154), params={'x': 2.915439933715113}, distributions={'x': UniformDistribution(low=-10, high=10)}, user_attrs={}, system_attrs={'_number': 46}, intermediate_values={}, trial_id=46),\n",
       " FrozenTrial(number=47, state=<TrialState.COMPLETE: 1>, value=4.9207427391394, datetime_start=datetime.datetime(2019, 9, 30, 21, 52, 45, 720469), datetime_complete=datetime.datetime(2019, 9, 30, 21, 52, 45, 781398), params={'x': -0.21827472129567416}, distributions={'x': UniformDistribution(low=-10, high=10)}, user_attrs={}, system_attrs={'_number': 47}, intermediate_values={}, trial_id=47),\n",
       " FrozenTrial(number=48, state=<TrialState.COMPLETE: 1>, value=5.363972310059336, datetime_start=datetime.datetime(2019, 9, 30, 21, 52, 45, 788212), datetime_complete=datetime.datetime(2019, 9, 30, 21, 52, 45, 848588), params={'x': 4.316025109980316}, distributions={'x': UniformDistribution(low=-10, high=10)}, user_attrs={}, system_attrs={'_number': 48}, intermediate_values={}, trial_id=48),\n",
       " FrozenTrial(number=49, state=<TrialState.COMPLETE: 1>, value=108.83448343764923, datetime_start=datetime.datetime(2019, 9, 30, 21, 52, 45, 858492), datetime_complete=datetime.datetime(2019, 9, 30, 21, 52, 45, 914275), params={'x': -8.432376691705933}, distributions={'x': UniformDistribution(low=-10, high=10)}, user_attrs={}, system_attrs={'_number': 49}, intermediate_values={}, trial_id=49),\n",
       " FrozenTrial(number=50, state=<TrialState.COMPLETE: 1>, value=15.69865859315624, datetime_start=datetime.datetime(2019, 9, 30, 21, 52, 45, 928290), datetime_complete=datetime.datetime(2019, 9, 30, 21, 52, 45, 979559), params={'x': -1.9621532773425412}, distributions={'x': UniformDistribution(low=-10, high=10)}, user_attrs={}, system_attrs={'_number': 50}, intermediate_values={}, trial_id=50),\n",
       " FrozenTrial(number=51, state=<TrialState.COMPLETE: 1>, value=0.004625042817249369, datetime_start=datetime.datetime(2019, 9, 30, 21, 52, 45, 987232), datetime_complete=datetime.datetime(2019, 9, 30, 21, 52, 46, 43924), params={'x': 1.9319923326583732}, distributions={'x': UniformDistribution(low=-10, high=10)}, user_attrs={}, system_attrs={'_number': 51}, intermediate_values={}, trial_id=51),\n",
       " FrozenTrial(number=52, state=<TrialState.COMPLETE: 1>, value=0.0009034470770961395, datetime_start=datetime.datetime(2019, 9, 30, 21, 52, 46, 54857), datetime_complete=datetime.datetime(2019, 9, 30, 21, 52, 46, 104643), params={'x': 1.9699426036208034}, distributions={'x': UniformDistribution(low=-10, high=10)}, user_attrs={}, system_attrs={'_number': 52}, intermediate_values={}, trial_id=52),\n",
       " FrozenTrial(number=53, state=<TrialState.COMPLETE: 1>, value=1.1506950004045007, datetime_start=datetime.datetime(2019, 9, 30, 21, 52, 46, 112354), datetime_complete=datetime.datetime(2019, 9, 30, 21, 52, 46, 162092), params={'x': 0.9272954738584811}, distributions={'x': UniformDistribution(low=-10, high=10)}, user_attrs={}, system_attrs={'_number': 53}, intermediate_values={}, trial_id=53),\n",
       " FrozenTrial(number=54, state=<TrialState.COMPLETE: 1>, value=0.011483158508729453, datetime_start=datetime.datetime(2019, 9, 30, 21, 52, 46, 168734), datetime_complete=datetime.datetime(2019, 9, 30, 21, 52, 46, 219921), params={'x': 2.107159500319521}, distributions={'x': UniformDistribution(low=-10, high=10)}, user_attrs={}, system_attrs={'_number': 54}, intermediate_values={}, trial_id=54),\n",
       " FrozenTrial(number=55, state=<TrialState.COMPLETE: 1>, value=1.5274117002308363, datetime_start=datetime.datetime(2019, 9, 30, 21, 52, 46, 228603), datetime_complete=datetime.datetime(2019, 9, 30, 21, 52, 46, 278399), params={'x': 3.2358849866516044}, distributions={'x': UniformDistribution(low=-10, high=10)}, user_attrs={}, system_attrs={'_number': 55}, intermediate_values={}, trial_id=55),\n",
       " FrozenTrial(number=56, state=<TrialState.COMPLETE: 1>, value=0.03679441542964889, datetime_start=datetime.datetime(2019, 9, 30, 21, 52, 46, 286562), datetime_complete=datetime.datetime(2019, 9, 30, 21, 52, 46, 337794), params={'x': 2.191818704587558}, distributions={'x': UniformDistribution(low=-10, high=10)}, user_attrs={}, system_attrs={'_number': 56}, intermediate_values={}, trial_id=56),\n",
       " FrozenTrial(number=57, state=<TrialState.COMPLETE: 1>, value=0.13004268851067788, datetime_start=datetime.datetime(2019, 9, 30, 21, 52, 46, 355433), datetime_complete=datetime.datetime(2019, 9, 30, 21, 52, 46, 426481), params={'x': 2.3606143210005364}, distributions={'x': UniformDistribution(low=-10, high=10)}, user_attrs={}, system_attrs={'_number': 57}, intermediate_values={}, trial_id=57),\n",
       " FrozenTrial(number=58, state=<TrialState.COMPLETE: 1>, value=11.494828640310404, datetime_start=datetime.datetime(2019, 9, 30, 21, 52, 46, 445655), datetime_complete=datetime.datetime(2019, 9, 30, 21, 52, 46, 503697), params={'x': 5.3904024304366}, distributions={'x': UniformDistribution(low=-10, high=10)}, user_attrs={}, system_attrs={'_number': 58}, intermediate_values={}, trial_id=58),\n",
       " FrozenTrial(number=59, state=<TrialState.COMPLETE: 1>, value=1.1044347412779942, datetime_start=datetime.datetime(2019, 9, 30, 21, 52, 46, 515506), datetime_complete=datetime.datetime(2019, 9, 30, 21, 52, 46, 594474), params={'x': 0.9490790984674468}, distributions={'x': UniformDistribution(low=-10, high=10)}, user_attrs={}, system_attrs={'_number': 59}, intermediate_values={}, trial_id=59),\n",
       " FrozenTrial(number=60, state=<TrialState.COMPLETE: 1>, value=2.686891960161434, datetime_start=datetime.datetime(2019, 9, 30, 21, 52, 46, 620790), datetime_complete=datetime.datetime(2019, 9, 30, 21, 52, 46, 701649), params={'x': 3.6391741701727227}, distributions={'x': UniformDistribution(low=-10, high=10)}, user_attrs={}, system_attrs={'_number': 60}, intermediate_values={}, trial_id=60),\n",
       " FrozenTrial(number=61, state=<TrialState.COMPLETE: 1>, value=0.24004233640498582, datetime_start=datetime.datetime(2019, 9, 30, 21, 52, 46, 720425), datetime_complete=datetime.datetime(2019, 9, 30, 21, 52, 46, 774898), params={'x': 1.51005884393635}, distributions={'x': UniformDistribution(low=-10, high=10)}, user_attrs={}, system_attrs={'_number': 61}, intermediate_values={}, trial_id=61),\n",
       " FrozenTrial(number=62, state=<TrialState.COMPLETE: 1>, value=4.280004345753304e-06, datetime_start=datetime.datetime(2019, 9, 30, 21, 52, 46, 783143), datetime_complete=datetime.datetime(2019, 9, 30, 21, 52, 46, 838237), params={'x': 1.997931182863143}, distributions={'x': UniformDistribution(low=-10, high=10)}, user_attrs={}, system_attrs={'_number': 62}, intermediate_values={}, trial_id=62),\n",
       " FrozenTrial(number=63, state=<TrialState.COMPLETE: 1>, value=0.9580810992563412, datetime_start=datetime.datetime(2019, 9, 30, 21, 52, 46, 852075), datetime_complete=datetime.datetime(2019, 9, 30, 21, 52, 46, 901390), params={'x': 2.9788161723512445}, distributions={'x': UniformDistribution(low=-10, high=10)}, user_attrs={}, system_attrs={'_number': 63}, intermediate_values={}, trial_id=63),\n",
       " FrozenTrial(number=64, state=<TrialState.COMPLETE: 1>, value=0.015997808726439276, datetime_start=datetime.datetime(2019, 9, 30, 21, 52, 46, 909860), datetime_complete=datetime.datetime(2019, 9, 30, 21, 52, 46, 959670), params={'x': 2.126482444340862}, distributions={'x': UniformDistribution(low=-10, high=10)}, user_attrs={}, system_attrs={'_number': 64}, intermediate_values={}, trial_id=64),\n",
       " FrozenTrial(number=65, state=<TrialState.COMPLETE: 1>, value=1.3160297794192757, datetime_start=datetime.datetime(2019, 9, 30, 21, 52, 46, 967738), datetime_complete=datetime.datetime(2019, 9, 30, 21, 52, 47, 21512), params={'x': 0.8528165885878249}, distributions={'x': UniformDistribution(low=-10, high=10)}, user_attrs={}, system_attrs={'_number': 65}, intermediate_values={}, trial_id=65),\n",
       " FrozenTrial(number=66, state=<TrialState.COMPLETE: 1>, value=3.7429616141793605, datetime_start=datetime.datetime(2019, 9, 30, 21, 52, 47, 31459), datetime_complete=datetime.datetime(2019, 9, 30, 21, 52, 47, 90265), params={'x': 3.934673516172525}, distributions={'x': UniformDistribution(low=-10, high=10)}, user_attrs={}, system_attrs={'_number': 66}, intermediate_values={}, trial_id=66),\n",
       " FrozenTrial(number=67, state=<TrialState.COMPLETE: 1>, value=4.750922978128597, datetime_start=datetime.datetime(2019, 9, 30, 21, 52, 47, 99313), datetime_complete=datetime.datetime(2019, 9, 30, 21, 52, 47, 154783), params={'x': -0.17966120718991485}, distributions={'x': UniformDistribution(low=-10, high=10)}, user_attrs={}, system_attrs={'_number': 67}, intermediate_values={}, trial_id=67),\n",
       " FrozenTrial(number=68, state=<TrialState.COMPLETE: 1>, value=5.974905273954761, datetime_start=datetime.datetime(2019, 9, 30, 21, 52, 47, 166478), datetime_complete=datetime.datetime(2019, 9, 30, 21, 52, 47, 225519), params={'x': 4.4443619359568585}, distributions={'x': UniformDistribution(low=-10, high=10)}, user_attrs={}, system_attrs={'_number': 68}, intermediate_values={}, trial_id=68),\n",
       " FrozenTrial(number=69, state=<TrialState.COMPLETE: 1>, value=0.00023447802324694987, datetime_start=datetime.datetime(2019, 9, 30, 21, 52, 47, 236683), datetime_complete=datetime.datetime(2019, 9, 30, 21, 52, 47, 290793), params={'x': 1.9846873247521228}, distributions={'x': UniformDistribution(low=-10, high=10)}, user_attrs={}, system_attrs={'_number': 69}, intermediate_values={}, trial_id=69),\n",
       " FrozenTrial(number=70, state=<TrialState.COMPLETE: 1>, value=0.5654040292890996, datetime_start=datetime.datetime(2019, 9, 30, 21, 52, 47, 305455), datetime_complete=datetime.datetime(2019, 9, 30, 21, 52, 47, 361045), params={'x': 2.75193352717451}, distributions={'x': UniformDistribution(low=-10, high=10)}, user_attrs={}, system_attrs={'_number': 70}, intermediate_values={}, trial_id=70),\n",
       " FrozenTrial(number=71, state=<TrialState.COMPLETE: 1>, value=0.03859407750143734, datetime_start=datetime.datetime(2019, 9, 30, 21, 52, 47, 373933), datetime_complete=datetime.datetime(2019, 9, 30, 21, 52, 47, 426859), params={'x': 1.8035462458962992}, distributions={'x': UniformDistribution(low=-10, high=10)}, user_attrs={}, system_attrs={'_number': 71}, intermediate_values={}, trial_id=71),\n",
       " FrozenTrial(number=72, state=<TrialState.COMPLETE: 1>, value=0.0010478093845156234, datetime_start=datetime.datetime(2019, 9, 30, 21, 52, 47, 436680), datetime_complete=datetime.datetime(2019, 9, 30, 21, 52, 47, 495437), params={'x': 1.9676301160873935}, distributions={'x': UniformDistribution(low=-10, high=10)}, user_attrs={}, system_attrs={'_number': 72}, intermediate_values={}, trial_id=72),\n",
       " FrozenTrial(number=73, state=<TrialState.COMPLETE: 1>, value=1.6176286710449308, datetime_start=datetime.datetime(2019, 9, 30, 21, 52, 47, 506208), datetime_complete=datetime.datetime(2019, 9, 30, 21, 52, 47, 567213), params={'x': 0.7281396810007277}, distributions={'x': UniformDistribution(low=-10, high=10)}, user_attrs={}, system_attrs={'_number': 73}, intermediate_values={}, trial_id=73),\n",
       " FrozenTrial(number=74, state=<TrialState.COMPLETE: 1>, value=1.9259242986426512, datetime_start=datetime.datetime(2019, 9, 30, 21, 52, 47, 586553), datetime_complete=datetime.datetime(2019, 9, 30, 21, 52, 47, 657888), params={'x': 3.3877767466860984}, distributions={'x': UniformDistribution(low=-10, high=10)}, user_attrs={}, system_attrs={'_number': 74}, intermediate_values={}, trial_id=74),\n",
       " FrozenTrial(number=75, state=<TrialState.COMPLETE: 1>, value=0.6177213828030798, datetime_start=datetime.datetime(2019, 9, 30, 21, 52, 47, 674347), datetime_complete=datetime.datetime(2019, 9, 30, 21, 52, 47, 737494), params={'x': 1.2140474678435855}, distributions={'x': UniformDistribution(low=-10, high=10)}, user_attrs={}, system_attrs={'_number': 75}, intermediate_values={}, trial_id=75),\n",
       " FrozenTrial(number=76, state=<TrialState.COMPLETE: 1>, value=0.040928171602821535, datetime_start=datetime.datetime(2019, 9, 30, 21, 52, 47, 749415), datetime_complete=datetime.datetime(2019, 9, 30, 21, 52, 47, 815211), params={'x': 2.202307121977506}, distributions={'x': UniformDistribution(low=-10, high=10)}, user_attrs={}, system_attrs={'_number': 76}, intermediate_values={}, trial_id=76),\n",
       " FrozenTrial(number=77, state=<TrialState.COMPLETE: 1>, value=6.4354617444085385, datetime_start=datetime.datetime(2019, 9, 30, 21, 52, 47, 828771), datetime_complete=datetime.datetime(2019, 9, 30, 21, 52, 47, 899329), params={'x': -0.5368211888914323}, distributions={'x': UniformDistribution(low=-10, high=10)}, user_attrs={}, system_attrs={'_number': 77}, intermediate_values={}, trial_id=77),\n",
       " FrozenTrial(number=78, state=<TrialState.COMPLETE: 1>, value=2.245453697058848, datetime_start=datetime.datetime(2019, 9, 30, 21, 52, 47, 926816), datetime_complete=datetime.datetime(2019, 9, 30, 21, 52, 48, 6016), params={'x': 0.5015162006018057}, distributions={'x': UniformDistribution(low=-10, high=10)}, user_attrs={}, system_attrs={'_number': 78}, intermediate_values={}, trial_id=78),\n",
       " FrozenTrial(number=79, state=<TrialState.COMPLETE: 1>, value=0.39331192436917517, datetime_start=datetime.datetime(2019, 9, 30, 21, 52, 48, 22045), datetime_complete=datetime.datetime(2019, 9, 30, 21, 52, 48, 103004), params={'x': 2.627145855737862}, distributions={'x': UniformDistribution(low=-10, high=10)}, user_attrs={}, system_attrs={'_number': 79}, intermediate_values={}, trial_id=79),\n",
       " FrozenTrial(number=80, state=<TrialState.COMPLETE: 1>, value=8.158355061756712, datetime_start=datetime.datetime(2019, 9, 30, 21, 52, 48, 114748), datetime_complete=datetime.datetime(2019, 9, 30, 21, 52, 48, 169919), params={'x': 4.856283435122767}, distributions={'x': UniformDistribution(low=-10, high=10)}, user_attrs={}, system_attrs={'_number': 80}, intermediate_values={}, trial_id=80),\n",
       " FrozenTrial(number=81, state=<TrialState.COMPLETE: 1>, value=0.02095777552084495, datetime_start=datetime.datetime(2019, 9, 30, 21, 52, 48, 181033), datetime_complete=datetime.datetime(2019, 9, 30, 21, 52, 48, 250709), params={'x': 1.8552319941394337}, distributions={'x': UniformDistribution(low=-10, high=10)}, user_attrs={}, system_attrs={'_number': 81}, intermediate_values={}, trial_id=81),\n",
       " FrozenTrial(number=82, state=<TrialState.COMPLETE: 1>, value=0.030238094014320968, datetime_start=datetime.datetime(2019, 9, 30, 21, 52, 48, 263818), datetime_complete=datetime.datetime(2019, 9, 30, 21, 52, 48, 339354), params={'x': 2.173891040638444}, distributions={'x': UniformDistribution(low=-10, high=10)}, user_attrs={}, system_attrs={'_number': 82}, intermediate_values={}, trial_id=82),\n",
       " FrozenTrial(number=83, state=<TrialState.COMPLETE: 1>, value=1.4341744168378259, datetime_start=datetime.datetime(2019, 9, 30, 21, 52, 48, 356355), datetime_complete=datetime.datetime(2019, 9, 30, 21, 52, 48, 415274), params={'x': 3.1975702137402324}, distributions={'x': UniformDistribution(low=-10, high=10)}, user_attrs={}, system_attrs={'_number': 83}, intermediate_values={}, trial_id=83),\n",
       " FrozenTrial(number=84, state=<TrialState.COMPLETE: 1>, value=0.04739771141981508, datetime_start=datetime.datetime(2019, 9, 30, 21, 52, 48, 427481), datetime_complete=datetime.datetime(2019, 9, 30, 21, 52, 48, 487165), params={'x': 1.7822898453911369}, distributions={'x': UniformDistribution(low=-10, high=10)}, user_attrs={}, system_attrs={'_number': 84}, intermediate_values={}, trial_id=84),\n",
       " FrozenTrial(number=85, state=<TrialState.COMPLETE: 1>, value=3.8990075388322207, datetime_start=datetime.datetime(2019, 9, 30, 21, 52, 48, 497785), datetime_complete=datetime.datetime(2019, 9, 30, 21, 52, 48, 561307), params={'x': 3.974590473701375}, distributions={'x': UniformDistribution(low=-10, high=10)}, user_attrs={}, system_attrs={'_number': 85}, intermediate_values={}, trial_id=85),\n",
       " FrozenTrial(number=86, state=<TrialState.COMPLETE: 1>, value=0.47372394386214944, datetime_start=datetime.datetime(2019, 9, 30, 21, 52, 48, 577009), datetime_complete=datetime.datetime(2019, 9, 30, 21, 52, 48, 651221), params={'x': 1.311723933394347}, distributions={'x': UniformDistribution(low=-10, high=10)}, user_attrs={}, system_attrs={'_number': 86}, intermediate_values={}, trial_id=86),\n",
       " FrozenTrial(number=87, state=<TrialState.COMPLETE: 1>, value=3.1252278369088424, datetime_start=datetime.datetime(2019, 9, 30, 21, 52, 48, 666208), datetime_complete=datetime.datetime(2019, 9, 30, 21, 52, 48, 743122), params={'x': 0.23216860619887103}, distributions={'x': UniformDistribution(low=-10, high=10)}, user_attrs={}, system_attrs={'_number': 87}, intermediate_values={}, trial_id=87),\n",
       " FrozenTrial(number=88, state=<TrialState.COMPLETE: 1>, value=0.0018089815894654835, datetime_start=datetime.datetime(2019, 9, 30, 21, 52, 48, 754810), datetime_complete=datetime.datetime(2019, 9, 30, 21, 52, 48, 827479), params={'x': 1.9574678757941073}, distributions={'x': UniformDistribution(low=-10, high=10)}, user_attrs={}, system_attrs={'_number': 88}, intermediate_values={}, trial_id=88),\n",
       " FrozenTrial(number=89, state=<TrialState.COMPLETE: 1>, value=0.42987149864355206, datetime_start=datetime.datetime(2019, 9, 30, 21, 52, 48, 841193), datetime_complete=datetime.datetime(2019, 9, 30, 21, 52, 48, 905194), params={'x': 2.655645863743189}, distributions={'x': UniformDistribution(low=-10, high=10)}, user_attrs={}, system_attrs={'_number': 89}, intermediate_values={}, trial_id=89),\n",
       " FrozenTrial(number=90, state=<TrialState.COMPLETE: 1>, value=0.7056998532717725, datetime_start=datetime.datetime(2019, 9, 30, 21, 52, 48, 919637), datetime_complete=datetime.datetime(2019, 9, 30, 21, 52, 48, 984846), params={'x': 1.1599405656313522}, distributions={'x': UniformDistribution(low=-10, high=10)}, user_attrs={}, system_attrs={'_number': 90}, intermediate_values={}, trial_id=90),\n",
       " FrozenTrial(number=91, state=<TrialState.COMPLETE: 1>, value=0.016154569284843247, datetime_start=datetime.datetime(2019, 9, 30, 21, 52, 48, 996258), datetime_complete=datetime.datetime(2019, 9, 30, 21, 52, 49, 55508), params={'x': 1.872899373389258}, distributions={'x': UniformDistribution(low=-10, high=10)}, user_attrs={}, system_attrs={'_number': 91}, intermediate_values={}, trial_id=91),\n",
       " FrozenTrial(number=92, state=<TrialState.COMPLETE: 1>, value=0.11995776876185262, datetime_start=datetime.datetime(2019, 9, 30, 21, 52, 49, 70556), datetime_complete=datetime.datetime(2019, 9, 30, 21, 52, 49, 127339), params={'x': 1.653650799391925}, distributions={'x': UniformDistribution(low=-10, high=10)}, user_attrs={}, system_attrs={'_number': 92}, intermediate_values={}, trial_id=92),\n",
       " FrozenTrial(number=93, state=<TrialState.COMPLETE: 1>, value=1.1857979978716797, datetime_start=datetime.datetime(2019, 9, 30, 21, 52, 49, 139093), datetime_complete=datetime.datetime(2019, 9, 30, 21, 52, 49, 194668), params={'x': 3.08894352372916}, distributions={'x': UniformDistribution(low=-10, high=10)}, user_attrs={}, system_attrs={'_number': 93}, intermediate_values={}, trial_id=93),\n",
       " FrozenTrial(number=94, state=<TrialState.COMPLETE: 1>, value=2.125765752622718, datetime_start=datetime.datetime(2019, 9, 30, 21, 52, 49, 206566), datetime_complete=datetime.datetime(2019, 9, 30, 21, 52, 49, 267739), params={'x': 0.5419993989635266}, distributions={'x': UniformDistribution(low=-10, high=10)}, user_attrs={}, system_attrs={'_number': 94}, intermediate_values={}, trial_id=94),\n",
       " FrozenTrial(number=95, state=<TrialState.COMPLETE: 1>, value=4.434711729032731, datetime_start=datetime.datetime(2019, 9, 30, 21, 52, 49, 278430), datetime_complete=datetime.datetime(2019, 9, 30, 21, 52, 49, 339376), params={'x': -0.105875525531538}, distributions={'x': UniformDistribution(low=-10, high=10)}, user_attrs={}, system_attrs={'_number': 95}, intermediate_values={}, trial_id=95),\n",
       " FrozenTrial(number=96, state=<TrialState.COMPLETE: 1>, value=2.5824949099227843, datetime_start=datetime.datetime(2019, 9, 30, 21, 52, 49, 354136), datetime_complete=datetime.datetime(2019, 9, 30, 21, 52, 49, 413929), params={'x': 3.607014284293324}, distributions={'x': UniformDistribution(low=-10, high=10)}, user_attrs={}, system_attrs={'_number': 96}, intermediate_values={}, trial_id=96),\n",
       " FrozenTrial(number=97, state=<TrialState.COMPLETE: 1>, value=0.27168201896199984, datetime_start=datetime.datetime(2019, 9, 30, 21, 52, 49, 426409), datetime_complete=datetime.datetime(2019, 9, 30, 21, 52, 49, 480805), params={'x': 2.521231252863832}, distributions={'x': UniformDistribution(low=-10, high=10)}, user_attrs={}, system_attrs={'_number': 97}, intermediate_values={}, trial_id=97),\n",
       " FrozenTrial(number=98, state=<TrialState.COMPLETE: 1>, value=13.049850852163912, datetime_start=datetime.datetime(2019, 9, 30, 21, 52, 49, 491028), datetime_complete=datetime.datetime(2019, 9, 30, 21, 52, 49, 543387), params={'x': -1.61245773015601}, distributions={'x': UniformDistribution(low=-10, high=10)}, user_attrs={}, system_attrs={'_number': 98}, intermediate_values={}, trial_id=98),\n",
       " FrozenTrial(number=99, state=<TrialState.COMPLETE: 1>, value=1.1173091894638764e-11, datetime_start=datetime.datetime(2019, 9, 30, 21, 52, 49, 554478), datetime_complete=datetime.datetime(2019, 9, 30, 21, 52, 49, 611586), params={'x': 1.9999966573824786}, distributions={'x': UniformDistribution(low=-10, high=10)}, user_attrs={}, system_attrs={'_number': 99}, intermediate_values={}, trial_id=99)]"
      ]
     },
     "execution_count": 12,
     "metadata": {},
     "output_type": "execute_result"
    }
   ],
   "source": [
    "study.trials"
   ]
  },
  {
   "cell_type": "code",
   "execution_count": 13,
   "metadata": {},
   "outputs": [
    {
     "data": {
      "text/plain": [
       "100"
      ]
     },
     "execution_count": 13,
     "metadata": {},
     "output_type": "execute_result"
    }
   ],
   "source": [
    "len(study.trials)"
   ]
  },
  {
   "cell_type": "markdown",
   "metadata": {},
   "source": [
    "＃＃＃Advanced Configurations"
   ]
  },
  {
   "cell_type": "code",
   "execution_count": 15,
   "metadata": {},
   "outputs": [],
   "source": [
    "def objective(trial):\n",
    "    #Categorical parameter\n",
    "    optimizer =trial.suggest_categorical('optimizer',['MomnetumSGD','Adam'])\n",
    "    \n",
    "    #Int parameter\n",
    "    num_layers = trial.suggest_int('num_layers',1,3)\n",
    "    \n",
    "    #uniform parameter\n",
    "    dropout_rate = trial.suggest_uniform('dropout_rate',0.0,1.0)\n",
    "    \n",
    "    #Longuniform parameter\n",
    "    learning_rate = trial.suggest_longuniform('learning_rate',1e-5,1e-2)\n",
    "    \n",
    "    #Discrete-uniform parameter\n",
    "    drop_path_rate = trial.suggest_descrete_uniform('drop_path_rate',0.0,1.0,0.1)"
   ]
  },
  {
   "cell_type": "code",
   "execution_count": null,
   "metadata": {},
   "outputs": [],
   "source": [
    "def objective(trial):\n",
    "    classifier_name = trial.suggest_categorical('classifier',['SVC','RandomForest'])\n",
    "    if classifier_name =='SVC':\n",
    "        svc_c =trial.suggest_longuniform('svc_c',1e-10,1e10)\n",
    "        classifier_obj = sklearn.svm.SVC(C=svc_c)\n",
    "    else:\n",
    "        \n",
    "        \n",
    "        "
   ]
  },
  {
   "cell_type": "code",
   "execution_count": null,
   "metadata": {},
   "outputs": [],
   "source": [
    "def create_model(trial):\n",
    "    n_layers = trial.suggest_int('n_layers',1,3)\n",
    "    \n",
    "    layers = []\n",
    "    for i in range(n_layers):\n",
    "        n_units = int(trial.suggest_longuniform('n_units_l{}'.format(i),4,128))\n",
    "        layers.append(L.Linear(None, n_units))\n",
    "        layers.append((F.relu))\n",
    "    layers.append(L.Linear(None,10))\n",
    "    return chainer.Sequential(*layers)\n"
   ]
  },
  {
   "cell_type": "code",
   "execution_count": null,
   "metadata": {},
   "outputs": [],
   "source": [
    "study.best_params  # Get best parameters for the objective function.\n",
    "study.best_value  # Get best objective value.\n",
    "study.best_trial  # Get best trial's information.\n",
    "study.trials  # Get all trials' information."
   ]
  },
  {
   "cell_type": "code",
   "execution_count": 3,
   "metadata": {},
   "outputs": [
    {
     "name": "stderr",
     "output_type": "stream",
     "text": [
      "[I 2019-10-01 08:53:13,995] Finished trial#0 resulted in value: 0.3421052631578947. Current best value is 0.3421052631578947 with parameters: {'alpha': 0.0944029231133571}.\n",
      "[I 2019-10-01 08:53:14,563] Finished trial#1 resulted in value: 0.13157894736842102. Current best value is 0.13157894736842102 with parameters: {'alpha': 1.2679487374430219e-05}.\n",
      "[I 2019-10-01 08:53:15,097] Finished trial#2 resulted in value: 0.1578947368421053. Current best value is 0.13157894736842102 with parameters: {'alpha': 1.2679487374430219e-05}.\n",
      "[I 2019-10-01 08:53:15,525] Finished trial#3 resulted in value: 0.07894736842105265. Current best value is 0.07894736842105265 with parameters: {'alpha': 0.03483196280963013}.\n",
      "[I 2019-10-01 08:53:15,906] Finished trial#4 resulted in value: 0.26315789473684215. Current best value is 0.07894736842105265 with parameters: {'alpha': 0.03483196280963013}.\n",
      "[I 2019-10-01 08:53:16,335] Finished trial#5 resulted in value: 0.42105263157894735. Current best value is 0.07894736842105265 with parameters: {'alpha': 0.03483196280963013}.\n",
      "[I 2019-10-01 08:53:16,775] Finished trial#6 resulted in value: 0.052631578947368474. Current best value is 0.052631578947368474 with parameters: {'alpha': 0.0004153064713610937}.\n",
      "[I 2019-10-01 08:53:17,247] Finished trial#7 resulted in value: 0.26315789473684215. Current best value is 0.052631578947368474 with parameters: {'alpha': 0.0004153064713610937}.\n",
      "[I 2019-10-01 08:53:17,793] Finished trial#8 resulted in value: 0.2894736842105263. Current best value is 0.052631578947368474 with parameters: {'alpha': 0.0004153064713610937}.\n",
      "[I 2019-10-01 08:53:18,374] Finished trial#9 resulted in value: 0.3157894736842105. Current best value is 0.052631578947368474 with parameters: {'alpha': 0.0004153064713610937}.\n",
      "[I 2019-10-01 08:53:19,029] Finished trial#10 resulted in value: 0.07894736842105265. Current best value is 0.052631578947368474 with parameters: {'alpha': 0.0004153064713610937}.\n",
      "[I 2019-10-01 08:53:19,726] Finished trial#11 resulted in value: 0.052631578947368474. Current best value is 0.052631578947368474 with parameters: {'alpha': 0.0004153064713610937}.\n",
      "[I 2019-10-01 08:53:20,487] Finished trial#12 resulted in value: 0.02631578947368418. Current best value is 0.02631578947368418 with parameters: {'alpha': 0.0014738635741373934}.\n",
      "[I 2019-10-01 08:53:21,247] Finished trial#13 resulted in value: 0.07894736842105265. Current best value is 0.02631578947368418 with parameters: {'alpha': 0.0014738635741373934}.\n",
      "[I 2019-10-01 08:53:22,053] Finished trial#14 resulted in value: 0.052631578947368474. Current best value is 0.02631578947368418 with parameters: {'alpha': 0.0014738635741373934}.\n",
      "[I 2019-10-01 08:53:22,121] Setting status of trial#15 as TrialState.PRUNED. \n",
      "[I 2019-10-01 08:53:23,058] Finished trial#16 resulted in value: 0.26315789473684215. Current best value is 0.02631578947368418 with parameters: {'alpha': 0.0014738635741373934}.\n",
      "[I 2019-10-01 08:53:23,172] Setting status of trial#17 as TrialState.PRUNED. \n",
      "[I 2019-10-01 08:53:23,303] Setting status of trial#18 as TrialState.PRUNED. \n",
      "[I 2019-10-01 08:53:23,445] Setting status of trial#19 as TrialState.PRUNED. \n"
     ]
    }
   ],
   "source": [
    "\"\"\"filename: prune.py\"\"\"\n",
    "\n",
    "import sklearn.datasets\n",
    "import sklearn.linear_model\n",
    "import sklearn.model_selection\n",
    "\n",
    "import optuna\n",
    "\n",
    "def objective(trial):\n",
    "    iris = sklearn.datasets.load_iris()\n",
    "    classes = list(set(iris.target))\n",
    "    train_x, test_x, train_y, test_y = \\\n",
    "        sklearn.model_selection.train_test_split(iris.data, iris.target, test_size=0.25, random_state=0)\n",
    "\n",
    "    alpha = trial.suggest_loguniform('alpha', 1e-5, 1e-1)\n",
    "    clf = sklearn.linear_model.SGDClassifier(alpha=alpha)\n",
    "\n",
    "    for step in range(100):\n",
    "        clf.partial_fit(train_x, train_y, classes=classes)\n",
    "\n",
    "        # Report intermediate objective value.\n",
    "        intermediate_value = 1.0 - clf.score(test_x, test_y)\n",
    "        trial.report(intermediate_value, step)\n",
    "\n",
    "        # Handle pruning based on the intermediate value.\n",
    "        if trial.should_prune():\n",
    "            raise optuna.structs.TrialPruned()\n",
    "\n",
    "    return 1.0 - clf.score(test_x, test_y)\n",
    "\n",
    "# Set up the median stopping rule as the pruning condition.\n",
    "study = optuna.create_study(pruner=optuna.pruners.MedianPruner())\n",
    "study.optimize(objective, n_trials=20)"
   ]
  },
  {
   "cell_type": "code",
   "execution_count": 1,
   "metadata": {},
   "outputs": [],
   "source": [
    "import matplotlib as plt\n",
    "import numpy as np\n",
    "import pandas as pd\n",
    "import pandas_profiling as pdp\n",
    "import matplotlib.pyplot as plt"
   ]
  },
  {
   "cell_type": "code",
   "execution_count": 2,
   "metadata": {},
   "outputs": [
    {
     "data": {
      "text/html": [
       "<div>\n",
       "<style scoped>\n",
       "    .dataframe tbody tr th:only-of-type {\n",
       "        vertical-align: middle;\n",
       "    }\n",
       "\n",
       "    .dataframe tbody tr th {\n",
       "        vertical-align: top;\n",
       "    }\n",
       "\n",
       "    .dataframe thead th {\n",
       "        text-align: right;\n",
       "    }\n",
       "</style>\n",
       "<table border=\"1\" class=\"dataframe\">\n",
       "  <thead>\n",
       "    <tr style=\"text-align: right;\">\n",
       "      <th></th>\n",
       "      <th>Unnamed: 0</th>\n",
       "      <th>id</th>\n",
       "      <th>築年数</th>\n",
       "      <th>方角</th>\n",
       "      <th>面積</th>\n",
       "      <th>所在階</th>\n",
       "      <th>駐車場</th>\n",
       "      <th>周辺環境</th>\n",
       "      <th>建物構造</th>\n",
       "      <th>契約期間</th>\n",
       "      <th>...</th>\n",
       "      <th>プロパンガス</th>\n",
       "      <th>タイル張り</th>\n",
       "      <th>24時間換気システム</th>\n",
       "      <th>2面採光</th>\n",
       "      <th>3面採光</th>\n",
       "      <th>床暖房</th>\n",
       "      <th>出窓</th>\n",
       "      <th>クッションフロア</th>\n",
       "      <th>ロフト</th>\n",
       "      <th>冷房</th>\n",
       "    </tr>\n",
       "  </thead>\n",
       "  <tbody>\n",
       "    <tr>\n",
       "      <th>0</th>\n",
       "      <td>0</td>\n",
       "      <td>31471</td>\n",
       "      <td>49年0ヶ月</td>\n",
       "      <td>南</td>\n",
       "      <td>50.22m2</td>\n",
       "      <td>8階／8階建</td>\n",
       "      <td>駐輪場\\t空有\\t駐車場\\t無\\tバイク置き場\\t無</td>\n",
       "      <td>【コンビニ】 74m\\t【スーパー】 215m\\t【病院】 313m\\t【小学校】 219m...</td>\n",
       "      <td>鉄骨造</td>\n",
       "      <td>NaN</td>\n",
       "      <td>...</td>\n",
       "      <td>False</td>\n",
       "      <td>False</td>\n",
       "      <td>False</td>\n",
       "      <td>False</td>\n",
       "      <td>False</td>\n",
       "      <td>False</td>\n",
       "      <td>False</td>\n",
       "      <td>False</td>\n",
       "      <td>False</td>\n",
       "      <td>False</td>\n",
       "    </tr>\n",
       "    <tr>\n",
       "      <th>1</th>\n",
       "      <td>1</td>\n",
       "      <td>31472</td>\n",
       "      <td>0年2ヶ月</td>\n",
       "      <td>南東</td>\n",
       "      <td>20.88m2</td>\n",
       "      <td>3階／4階建</td>\n",
       "      <td>駐車場\\t近隣\\t34,000円(税込)\\t距離200m\\t駐輪場\\t無\\tバイク置き場\\t無</td>\n",
       "      <td>【スーパー】 128m\\t【スーパー】 313m\\t【コンビニ】 374m\\t【コンビニ】 ...</td>\n",
       "      <td>RC（鉄筋コンクリート）</td>\n",
       "      <td>2年間</td>\n",
       "      <td>...</td>\n",
       "      <td>False</td>\n",
       "      <td>False</td>\n",
       "      <td>False</td>\n",
       "      <td>False</td>\n",
       "      <td>False</td>\n",
       "      <td>False</td>\n",
       "      <td>False</td>\n",
       "      <td>False</td>\n",
       "      <td>False</td>\n",
       "      <td>False</td>\n",
       "    </tr>\n",
       "    <tr>\n",
       "      <th>2</th>\n",
       "      <td>2</td>\n",
       "      <td>31473</td>\n",
       "      <td>23年4ヶ月</td>\n",
       "      <td>南東</td>\n",
       "      <td>26.93m2</td>\n",
       "      <td>1階／4階建</td>\n",
       "      <td>駐車場\\t空有\\t5,000円(税込)\\t(敷金あり\\t1ヶ月)\\t駐輪場\\t空有\\tバイク...</td>\n",
       "      <td>【スーパー】 529m\\t【スーパー】 810m\\t【コンビニ】 316m\\t【コンビニ】 ...</td>\n",
       "      <td>鉄骨造</td>\n",
       "      <td>2年間</td>\n",
       "      <td>...</td>\n",
       "      <td>False</td>\n",
       "      <td>True</td>\n",
       "      <td>False</td>\n",
       "      <td>True</td>\n",
       "      <td>False</td>\n",
       "      <td>False</td>\n",
       "      <td>False</td>\n",
       "      <td>False</td>\n",
       "      <td>False</td>\n",
       "      <td>False</td>\n",
       "    </tr>\n",
       "    <tr>\n",
       "      <th>3</th>\n",
       "      <td>3</td>\n",
       "      <td>31474</td>\n",
       "      <td>36年2ヶ月</td>\n",
       "      <td>南東</td>\n",
       "      <td>23.57m2</td>\n",
       "      <td>1階／2階建</td>\n",
       "      <td>駐輪場\\t空有\\t0円</td>\n",
       "      <td>【スーパー】 286m\\t【スーパー】 702m\\t【コンビニ】 489m\\t【コンビニ】 ...</td>\n",
       "      <td>木造</td>\n",
       "      <td>2年間</td>\n",
       "      <td>...</td>\n",
       "      <td>False</td>\n",
       "      <td>False</td>\n",
       "      <td>False</td>\n",
       "      <td>True</td>\n",
       "      <td>False</td>\n",
       "      <td>False</td>\n",
       "      <td>False</td>\n",
       "      <td>False</td>\n",
       "      <td>False</td>\n",
       "      <td>False</td>\n",
       "    </tr>\n",
       "    <tr>\n",
       "      <th>4</th>\n",
       "      <td>4</td>\n",
       "      <td>31475</td>\n",
       "      <td>45年4ヶ月</td>\n",
       "      <td>南</td>\n",
       "      <td>50m2</td>\n",
       "      <td>4階／4階建</td>\n",
       "      <td>駐車場\\t近隣\\t22,600円\\t距離177m</td>\n",
       "      <td>【コンビニ】 312m\\t【コンビニ】 436m\\t【スーパー】 902m\\t【コンビニ】 ...</td>\n",
       "      <td>RC（鉄筋コンクリート）</td>\n",
       "      <td>2年間</td>\n",
       "      <td>...</td>\n",
       "      <td>False</td>\n",
       "      <td>False</td>\n",
       "      <td>False</td>\n",
       "      <td>False</td>\n",
       "      <td>False</td>\n",
       "      <td>False</td>\n",
       "      <td>False</td>\n",
       "      <td>False</td>\n",
       "      <td>False</td>\n",
       "      <td>True</td>\n",
       "    </tr>\n",
       "  </tbody>\n",
       "</table>\n",
       "<p>5 rows × 119 columns</p>\n",
       "</div>"
      ],
      "text/plain": [
       "   Unnamed: 0     id     築年数  方角       面積     所在階  \\\n",
       "0           0  31471  49年0ヶ月   南  50.22m2  8階／8階建   \n",
       "1           1  31472   0年2ヶ月  南東  20.88m2  3階／4階建   \n",
       "2           2  31473  23年4ヶ月  南東  26.93m2  1階／4階建   \n",
       "3           3  31474  36年2ヶ月  南東  23.57m2  1階／2階建   \n",
       "4           4  31475  45年4ヶ月   南     50m2  4階／4階建   \n",
       "\n",
       "                                                 駐車場  \\\n",
       "0                         駐輪場\\t空有\\t駐車場\\t無\\tバイク置き場\\t無   \n",
       "1    駐車場\\t近隣\\t34,000円(税込)\\t距離200m\\t駐輪場\\t無\\tバイク置き場\\t無   \n",
       "2  駐車場\\t空有\\t5,000円(税込)\\t(敷金あり\\t1ヶ月)\\t駐輪場\\t空有\\tバイク...   \n",
       "3                                        駐輪場\\t空有\\t0円   \n",
       "4                           駐車場\\t近隣\\t22,600円\\t距離177m   \n",
       "\n",
       "                                                周辺環境          建物構造 契約期間  ...  \\\n",
       "0  【コンビニ】 74m\\t【スーパー】 215m\\t【病院】 313m\\t【小学校】 219m...           鉄骨造  NaN  ...   \n",
       "1  【スーパー】 128m\\t【スーパー】 313m\\t【コンビニ】 374m\\t【コンビニ】 ...  RC（鉄筋コンクリート）  2年間  ...   \n",
       "2  【スーパー】 529m\\t【スーパー】 810m\\t【コンビニ】 316m\\t【コンビニ】 ...           鉄骨造  2年間  ...   \n",
       "3  【スーパー】 286m\\t【スーパー】 702m\\t【コンビニ】 489m\\t【コンビニ】 ...            木造  2年間  ...   \n",
       "4  【コンビニ】 312m\\t【コンビニ】 436m\\t【スーパー】 902m\\t【コンビニ】 ...  RC（鉄筋コンクリート）  2年間  ...   \n",
       "\n",
       "  プロパンガス  タイル張り  24時間換気システム   2面採光   3面採光    床暖房     出窓  クッションフロア    ロフト  \\\n",
       "0  False  False       False  False  False  False  False     False  False   \n",
       "1  False  False       False  False  False  False  False     False  False   \n",
       "2  False   True       False   True  False  False  False     False  False   \n",
       "3  False  False       False   True  False  False  False     False  False   \n",
       "4  False  False       False  False  False  False  False     False  False   \n",
       "\n",
       "      冷房  \n",
       "0  False  \n",
       "1  False  \n",
       "2  False  \n",
       "3  False  \n",
       "4   True  \n",
       "\n",
       "[5 rows x 119 columns]"
      ]
     },
     "execution_count": 2,
     "metadata": {},
     "output_type": "execute_result"
    }
   ],
   "source": [
    "train = pd.read_csv('./train.csv')\n",
    "test = pd.read_csv('./test.csv')\n",
    "test.head()"
   ]
  },
  {
   "cell_type": "code",
   "execution_count": 2,
   "metadata": {},
   "outputs": [
    {
     "ename": "ModuleNotFoundError",
     "evalue": "No module named 'lightgbm'",
     "output_type": "error",
     "traceback": [
      "\u001b[0;31m---------------------------------------------------------------------------\u001b[0m",
      "\u001b[0;31mModuleNotFoundError\u001b[0m                       Traceback (most recent call last)",
      "\u001b[0;32m<ipython-input-2-7ae45a1e2be0>\u001b[0m in \u001b[0;36m<module>\u001b[0;34m\u001b[0m\n\u001b[0;32m----> 1\u001b[0;31m \u001b[0;32mimport\u001b[0m \u001b[0mlightgbm\u001b[0m \u001b[0;32mas\u001b[0m \u001b[0mlgb\u001b[0m\u001b[0;34m\u001b[0m\u001b[0;34m\u001b[0m\u001b[0m\n\u001b[0m\u001b[1;32m      2\u001b[0m \u001b[0;32mimport\u001b[0m \u001b[0moptuna\u001b[0m\u001b[0;34m\u001b[0m\u001b[0;34m\u001b[0m\u001b[0m\n",
      "\u001b[0;31mModuleNotFoundError\u001b[0m: No module named 'lightgbm'"
     ]
    }
   ],
   "source": [
    "import lightgbm as lgb\n",
    "import optuna"
   ]
  },
  {
   "cell_type": "code",
   "execution_count": null,
   "metadata": {},
   "outputs": [],
   "source": [
    "from sklearn.model_selection import train_test_split\n",
    "from sklearn.metrics import accuracy_score\n",
    "\n",
    "X_train = train.drop(['Unnamed: 0','id', '賃料','築年数', '方角', '面積', '所在階', '駐車場','周辺環境', '建物構造', '契約期間', '区'], axis=1)\n",
    "y_train = train['賃料']\n",
    "#X_test = test.drop(['id'], axis=1)\n",
    "#X_trainとy_trainをtrain とvalidに分割\n",
    "train_x,valid_x,train_y,valid_y = train_test_split(X_train,y_train,test_size=0.33,random_state=0)\n",
    "#lgb.Datasetでtrainとvalidを作っておく\n",
    "lgb_train = lgb.Dataset(train_x,train_y)\n",
    "lgb_eval =lgb.Dataset(valid_x,valid_y)\n",
    "def objective(trial):\n",
    "    drop_rate = trial.suggest_uniform('drop_rate', 0, 1.0)\n",
    "    feature_fraction = trial.suggest_uniform('feature_fraction', 0, 1.0)\n",
    "    learning_rate = trial.suggest_uniform('learning_rate', 0, 1.0)\n",
    "    subsample = trial.suggest_uniform('subsample', 0.8, 1.0)\n",
    "    num_leaves = trial.suggest_int('num_leaves', 5, 1000)\n",
    "    verbosity = trial.suggest_int('verbosity', -1, 1)\n",
    "    num_boost_round = trial.suggest_int('num_boost_round', 10, 100000)\n",
    "    min_data_in_leaf = trial.suggest_int('min_data_in_leaf', 10, 100000)\n",
    "    min_child_samples = trial.suggest_int('min_child_samples', 5, 100)\n",
    "    min_child_weight = trial.suggest_int('min_child_weight', 5, 500)\n",
    "#パラメータの定義\n",
    "params = {\"objective\": \"regression\",\n",
    "          \"metric\": 'rmse',\n",
    "          \"boosting_type\": \"gbdt\",\n",
    "          \"learning_rate\": learning_rate,\n",
    "          \"num_leaves\": num_leaves,\n",
    "          \"max_bin\": 255,\n",
    "          'colsample_bytree': 0.8,\n",
    "          'subsample': 0.8,\n",
    "          \"feature_fraction\": feature_fraction,\n",
    "          \"verbosity\": verbosity,\n",
    "          \"drop_rate\": drop_rate,\n",
    "          \"is_unbalance\": False,\n",
    "          \"max_drop\": 50,\n",
    "          \"min_child_samples\": min_child_samples,\n",
    "          \"min_child_weight\": min_child_weight,\n",
    "          \"min_split_gain\": 0,\n",
    "          \"min_data_in_leaf\": min_data_in_leaf,\n",
    "          \"subsample\": subsample,\n",
    "          'seed': 1,\n",
    "          }\n",
    "eval_result = {}\n",
    "gbm =lgb.train( params,\n",
    "                        train_set = lgb_train,\n",
    "                        valid_sets = [lgb_train,lgb_eval],\n",
    "                        num_boost_round=5000, \n",
    "                        early_stopping_rounds = 200,\n",
    "                        evals_result = eval_result,\n",
    "                        verbose_eval = 200)\n",
    "\n",
    "\n",
    "study = optuna.create_study(pruner=optuna.pruners.MedianPruner())\n",
    "study.optimize(objective, n_trials=10)"
   ]
  },
  {
   "cell_type": "code",
   "execution_count": 8,
   "metadata": {},
   "outputs": [
    {
     "data": {
      "text/plain": [
       "array([280106.21313324, 123859.76403083,  80060.56630956, ...,\n",
       "       186066.29238371, 233638.77666212,  86661.92538831])"
      ]
     },
     "execution_count": 8,
     "metadata": {},
     "output_type": "execute_result"
    }
   ],
   "source": [
    "oof = gbm.predict(test.drop(['Unnamed: 0','id','築年数', '方角', '面積', '所在階', '駐車場','周辺環境', '建物構造', '契約期間', '区'], axis=1))\n",
    "oof"
   ]
  },
  {
   "cell_type": "code",
   "execution_count": 9,
   "metadata": {},
   "outputs": [
    {
     "data": {
      "text/plain": [
       "<matplotlib.legend.Legend at 0x1a24dc4c88>"
      ]
     },
     "execution_count": 9,
     "metadata": {},
     "output_type": "execute_result"
    },
    {
     "name": "stderr",
     "output_type": "stream",
     "text": [
      "/Users/masatoota/anaconda3/lib/python3.7/site-packages/matplotlib/font_manager.py:1241: UserWarning: findfont: Font family ['sans-serif'] not found. Falling back to DejaVu Sans.\n",
      "  (prop.get_family(), self.defaultFamily[fontext]))\n"
     ]
    },
    {
     "data": {
      "image/png": "[encoded data removed]",
      "text/plain": [
       "<Figure size 432x288 with 1 Axes>"
      ]
     },
     "metadata": {
      "needs_background": "light"
     },
     "output_type": "display_data"
    }
   ],
   "source": [
    "plt.plot(eval_result['training']['rmse'],label='train_loss')\n",
    "plt.plot(eval_result['valid_1']['rmse'],label='valid_loss')\n",
    "plt.legend()"
   ]
  },
  {
   "cell_type": "code",
   "execution_count": null,
   "metadata": {},
   "outputs": [],
   "source": []
  }
 ],
 "metadata": {
  "kernelspec": {
   "display_name": "Python 3",
   "language": "python",
   "name": "python3"
  },
  "language_info": {
   "codemirror_mode": {
    "name": "ipython",
    "version": 3
   },
   "file_extension": ".py",
   "mimetype": "text/x-python",
   "name": "python",
   "nbconvert_exporter": "python",
   "pygments_lexer": "ipython3",
   "version": "3.7.3"
  }
 },
 "nbformat": 4,
 "nbformat_minor": 2
}

{
 "cells": [
  {
   "cell_type": "code",
   "execution_count": 1,
   "metadata": {},
   "outputs": [],
   "source": [
    "import optuna\n",
    "\n",
    "\n",
    "def objective(trial):\n",
    "    x = trial.suggest_uniform('x',-10,10)\n",
    "    return (x-2)**2"
   ]
  },
  {
   "cell_type": "code",
   "execution_count": 2,
   "metadata": {},
   "outputs": [
    {
     "name": "stderr",
     "output_type": "stream",
     "text": [
      "[I 2019-10-03 10:54:19,346] Finished trial#0 resulted in value: 3.1715036046342178. Current best value is 3.1715036046342178 with parameters: {'x': 0.21912841433352703}.\n",
      "[I 2019-10-03 10:54:19,378] Finished trial#1 resulted in value: 61.95659919923789. Current best value is 3.1715036046342178 with parameters: {'x': 0.21912841433352703}.\n",
      "[I 2019-10-03 10:54:19,412] Finished trial#2 resulted in value: 31.52490882571721. Current best value is 3.1715036046342178 with parameters: {'x': 0.21912841433352703}.\n",
      "[I 2019-10-03 10:54:19,445] Finished trial#3 resulted in value: 96.084725246671. Current best value is 3.1715036046342178 with parameters: {'x': 0.21912841433352703}.\n",
      "[I 2019-10-03 10:54:19,479] Finished trial#4 resulted in value: 92.13446483432035. Current best value is 3.1715036046342178 with parameters: {'x': 0.21912841433352703}.\n",
      "[I 2019-10-03 10:54:19,513] Finished trial#5 resulted in value: 91.41622704095417. Current best value is 3.1715036046342178 with parameters: {'x': 0.21912841433352703}.\n",
      "[I 2019-10-03 10:54:19,548] Finished trial#6 resulted in value: 17.259589462138596. Current best value is 3.1715036046342178 with parameters: {'x': 0.21912841433352703}.\n",
      "[I 2019-10-03 10:54:19,581] Finished trial#7 resulted in value: 42.61885226002864. Current best value is 3.1715036046342178 with parameters: {'x': 0.21912841433352703}.\n",
      "[I 2019-10-03 10:54:19,613] Finished trial#8 resulted in value: 24.903644750178998. Current best value is 3.1715036046342178 with parameters: {'x': 0.21912841433352703}.\n",
      "[I 2019-10-03 10:54:19,646] Finished trial#9 resulted in value: 73.50075536700491. Current best value is 3.1715036046342178 with parameters: {'x': 0.21912841433352703}.\n",
      "[I 2019-10-03 10:54:19,683] Finished trial#10 resulted in value: 1.147442384465937. Current best value is 1.147442384465937 with parameters: {'x': 0.928812628684441}.\n",
      "[I 2019-10-03 10:54:19,719] Finished trial#11 resulted in value: 1.5724872672972974. Current best value is 1.147442384465937 with parameters: {'x': 0.928812628684441}.\n",
      "[I 2019-10-03 10:54:19,754] Finished trial#12 resulted in value: 1.391244246995577. Current best value is 1.147442384465937 with parameters: {'x': 0.928812628684441}.\n",
      "[I 2019-10-03 10:54:19,790] Finished trial#13 resulted in value: 1.3571157479243476. Current best value is 1.147442384465937 with parameters: {'x': 0.928812628684441}.\n",
      "[I 2019-10-03 10:54:19,824] Finished trial#14 resulted in value: 2.823438994945096. Current best value is 1.147442384465937 with parameters: {'x': 0.928812628684441}.\n",
      "[I 2019-10-03 10:54:19,860] Finished trial#15 resulted in value: 21.192383126034265. Current best value is 1.147442384465937 with parameters: {'x': 0.928812628684441}.\n",
      "[I 2019-10-03 10:54:19,896] Finished trial#16 resulted in value: 0.9578683428521803. Current best value is 0.9578683428521803 with parameters: {'x': 2.978707485846604}.\n",
      "[I 2019-10-03 10:54:19,932] Finished trial#17 resulted in value: 19.429030989323923. Current best value is 0.9578683428521803 with parameters: {'x': 2.978707485846604}.\n",
      "[I 2019-10-03 10:54:19,966] Finished trial#18 resulted in value: 2.027307434412405. Current best value is 0.9578683428521803 with parameters: {'x': 2.978707485846604}.\n",
      "[I 2019-10-03 10:54:20,002] Finished trial#19 resulted in value: 19.649121360968557. Current best value is 0.9578683428521803 with parameters: {'x': 2.978707485846604}.\n",
      "[I 2019-10-03 10:54:20,038] Finished trial#20 resulted in value: 8.97259100610465. Current best value is 0.9578683428521803 with parameters: {'x': 2.978707485846604}.\n",
      "[I 2019-10-03 10:54:20,075] Finished trial#21 resulted in value: 0.3171851179612107. Current best value is 0.3171851179612107 with parameters: {'x': 2.563191901540861}.\n",
      "[I 2019-10-03 10:54:20,110] Finished trial#22 resulted in value: 0.011184184117133534. Current best value is 0.011184184117133534 with parameters: {'x': 2.105755303021331}.\n",
      "[I 2019-10-03 10:54:20,146] Finished trial#23 resulted in value: 0.40152020350818735. Current best value is 0.011184184117133534 with parameters: {'x': 2.105755303021331}.\n",
      "[I 2019-10-03 10:54:20,182] Finished trial#24 resulted in value: 0.005976930361810777. Current best value is 0.005976930361810777 with parameters: {'x': 2.077310609632901}.\n",
      "[I 2019-10-03 10:54:20,217] Finished trial#25 resulted in value: 9.960304142839826. Current best value is 0.005976930361810777 with parameters: {'x': 2.077310609632901}.\n",
      "[I 2019-10-03 10:54:20,253] Finished trial#26 resulted in value: 9.33135555610632. Current best value is 0.005976930361810777 with parameters: {'x': 2.077310609632901}.\n",
      "[I 2019-10-03 10:54:20,289] Finished trial#27 resulted in value: 41.48588954588056. Current best value is 0.005976930361810777 with parameters: {'x': 2.077310609632901}.\n",
      "[I 2019-10-03 10:54:20,326] Finished trial#28 resulted in value: 0.0007278548811156032. Current best value is 0.0007278548811156032 with parameters: {'x': 1.973021214239414}.\n",
      "[I 2019-10-03 10:54:20,362] Finished trial#29 resulted in value: 3.8832868813398465. Current best value is 0.0007278548811156032 with parameters: {'x': 1.973021214239414}.\n",
      "[I 2019-10-03 10:54:20,398] Finished trial#30 resulted in value: 10.134974968914072. Current best value is 0.0007278548811156032 with parameters: {'x': 1.973021214239414}.\n",
      "[I 2019-10-03 10:54:20,433] Finished trial#31 resulted in value: 0.04580668979731747. Current best value is 0.0007278548811156032 with parameters: {'x': 1.973021214239414}.\n",
      "[I 2019-10-03 10:54:20,470] Finished trial#32 resulted in value: 0.10175208013643677. Current best value is 0.0007278548811156032 with parameters: {'x': 1.973021214239414}.\n",
      "[I 2019-10-03 10:54:20,507] Finished trial#33 resulted in value: 5.6143794856529095. Current best value is 0.0007278548811156032 with parameters: {'x': 1.973021214239414}.\n",
      "[I 2019-10-03 10:54:20,544] Finished trial#34 resulted in value: 0.005450432167587086. Current best value is 0.0007278548811156032 with parameters: {'x': 1.973021214239414}.\n",
      "[I 2019-10-03 10:54:20,582] Finished trial#35 resulted in value: 13.670849815652055. Current best value is 0.0007278548811156032 with parameters: {'x': 1.973021214239414}.\n",
      "[I 2019-10-03 10:54:20,617] Finished trial#36 resulted in value: 4.486513260692687. Current best value is 0.0007278548811156032 with parameters: {'x': 1.973021214239414}.\n",
      "[I 2019-10-03 10:54:20,654] Finished trial#37 resulted in value: 9.4631805398325. Current best value is 0.0007278548811156032 with parameters: {'x': 1.973021214239414}.\n",
      "[I 2019-10-03 10:54:20,691] Finished trial#38 resulted in value: 0.014936238583316256. Current best value is 0.0007278548811156032 with parameters: {'x': 1.973021214239414}.\n",
      "[I 2019-10-03 10:54:20,729] Finished trial#39 resulted in value: 37.31061916973304. Current best value is 0.0007278548811156032 with parameters: {'x': 1.973021214239414}.\n",
      "[I 2019-10-03 10:54:20,766] Finished trial#40 resulted in value: 5.003056051456997. Current best value is 0.0007278548811156032 with parameters: {'x': 1.973021214239414}.\n",
      "[I 2019-10-03 10:54:20,803] Finished trial#41 resulted in value: 0.02790122366110979. Current best value is 0.0007278548811156032 with parameters: {'x': 1.973021214239414}.\n",
      "[I 2019-10-03 10:54:20,840] Finished trial#42 resulted in value: 0.04332197447380583. Current best value is 0.0007278548811156032 with parameters: {'x': 1.973021214239414}.\n",
      "[I 2019-10-03 10:54:20,877] Finished trial#43 resulted in value: 6.717009316374525. Current best value is 0.0007278548811156032 with parameters: {'x': 1.973021214239414}.\n",
      "[I 2019-10-03 10:54:20,913] Finished trial#44 resulted in value: 23.793988132600315. Current best value is 0.0007278548811156032 with parameters: {'x': 1.973021214239414}.\n",
      "[I 2019-10-03 10:54:20,950] Finished trial#45 resulted in value: 1.6628365768924198. Current best value is 0.0007278548811156032 with parameters: {'x': 1.973021214239414}.\n",
      "[I 2019-10-03 10:54:20,988] Finished trial#46 resulted in value: 139.56040665372333. Current best value is 0.0007278548811156032 with parameters: {'x': 1.973021214239414}.\n",
      "[I 2019-10-03 10:54:21,025] Finished trial#47 resulted in value: 4.303001619855028. Current best value is 0.0007278548811156032 with parameters: {'x': 1.973021214239414}.\n",
      "[I 2019-10-03 10:54:21,062] Finished trial#48 resulted in value: 0.4339587810783703. Current best value is 0.0007278548811156032 with parameters: {'x': 1.973021214239414}.\n",
      "[I 2019-10-03 10:54:21,101] Finished trial#49 resulted in value: 0.7148689002578842. Current best value is 0.0007278548811156032 with parameters: {'x': 1.973021214239414}.\n",
      "[I 2019-10-03 10:54:21,138] Finished trial#50 resulted in value: 15.802137608029447. Current best value is 0.0007278548811156032 with parameters: {'x': 1.973021214239414}.\n",
      "[I 2019-10-03 10:54:21,175] Finished trial#51 resulted in value: 0.034817889640278016. Current best value is 0.0007278548811156032 with parameters: {'x': 1.973021214239414}.\n",
      "[I 2019-10-03 10:54:21,213] Finished trial#52 resulted in value: 0.6420436593652157. Current best value is 0.0007278548811156032 with parameters: {'x': 1.973021214239414}.\n",
      "[I 2019-10-03 10:54:21,251] Finished trial#53 resulted in value: 2.285230721185607. Current best value is 0.0007278548811156032 with parameters: {'x': 1.973021214239414}.\n",
      "[I 2019-10-03 10:54:21,290] Finished trial#54 resulted in value: 2.997185154732068. Current best value is 0.0007278548811156032 with parameters: {'x': 1.973021214239414}.\n",
      "[I 2019-10-03 10:54:21,327] Finished trial#55 resulted in value: 0.002540985561372862. Current best value is 0.0007278548811156032 with parameters: {'x': 1.973021214239414}.\n",
      "[I 2019-10-03 10:54:21,361] Finished trial#56 resulted in value: 1.0546159919521152. Current best value is 0.0007278548811156032 with parameters: {'x': 1.973021214239414}.\n",
      "[I 2019-10-03 10:54:21,399] Finished trial#57 resulted in value: 7.446345231933712. Current best value is 0.0007278548811156032 with parameters: {'x': 1.973021214239414}.\n",
      "[I 2019-10-03 10:54:21,436] Finished trial#58 resulted in value: 2.494867544355294. Current best value is 0.0007278548811156032 with parameters: {'x': 1.973021214239414}.\n",
      "[I 2019-10-03 10:54:21,474] Finished trial#59 resulted in value: 13.385980332543317. Current best value is 0.0007278548811156032 with parameters: {'x': 1.973021214239414}.\n",
      "[I 2019-10-03 10:54:21,513] Finished trial#60 resulted in value: 2.4013597480000173. Current best value is 0.0007278548811156032 with parameters: {'x': 1.973021214239414}.\n",
      "[I 2019-10-03 10:54:21,552] Finished trial#61 resulted in value: 0.004918773099855662. Current best value is 0.0007278548811156032 with parameters: {'x': 1.973021214239414}.\n",
      "[I 2019-10-03 10:54:21,590] Finished trial#62 resulted in value: 0.13661230434329175. Current best value is 0.0007278548811156032 with parameters: {'x': 1.973021214239414}.\n",
      "[I 2019-10-03 10:54:21,629] Finished trial#63 resulted in value: 0.8557934807735502. Current best value is 0.0007278548811156032 with parameters: {'x': 1.973021214239414}.\n",
      "[I 2019-10-03 10:54:21,667] Finished trial#64 resulted in value: 0.3612703138073073. Current best value is 0.0007278548811156032 with parameters: {'x': 1.973021214239414}.\n",
      "[I 2019-10-03 10:54:21,705] Finished trial#65 resulted in value: 0.9007639889181488. Current best value is 0.0007278548811156032 with parameters: {'x': 1.973021214239414}.\n",
      "[I 2019-10-03 10:54:21,743] Finished trial#66 resulted in value: 0.07472215367232869. Current best value is 0.0007278548811156032 with parameters: {'x': 1.973021214239414}.\n",
      "[I 2019-10-03 10:54:21,782] Finished trial#67 resulted in value: 5.1299562553349665. Current best value is 0.0007278548811156032 with parameters: {'x': 1.973021214239414}.\n",
      "[I 2019-10-03 10:54:21,821] Finished trial#68 resulted in value: 3.704730519868545. Current best value is 0.0007278548811156032 with parameters: {'x': 1.973021214239414}.\n",
      "[I 2019-10-03 10:54:21,859] Finished trial#69 resulted in value: 10.077107305183823. Current best value is 0.0007278548811156032 with parameters: {'x': 1.973021214239414}.\n",
      "[I 2019-10-03 10:54:21,898] Finished trial#70 resulted in value: 6.719856230390069. Current best value is 0.0007278548811156032 with parameters: {'x': 1.973021214239414}.\n",
      "[I 2019-10-03 10:54:21,936] Finished trial#71 resulted in value: 0.0506463792248046. Current best value is 0.0007278548811156032 with parameters: {'x': 1.973021214239414}.\n",
      "[I 2019-10-03 10:54:21,974] Finished trial#72 resulted in value: 0.0026985094156638995. Current best value is 0.0007278548811156032 with parameters: {'x': 1.973021214239414}.\n",
      "[I 2019-10-03 10:54:22,014] Finished trial#73 resulted in value: 1.5256259086654924. Current best value is 0.0007278548811156032 with parameters: {'x': 1.973021214239414}.\n",
      "[I 2019-10-03 10:54:22,053] Finished trial#74 resulted in value: 2.6591379906242825. Current best value is 0.0007278548811156032 with parameters: {'x': 1.973021214239414}.\n",
      "[I 2019-10-03 10:54:22,093] Finished trial#75 resulted in value: 0.03088511246835188. Current best value is 0.0007278548811156032 with parameters: {'x': 1.973021214239414}.\n",
      "[I 2019-10-03 10:54:22,133] Finished trial#76 resulted in value: 1.0278873494057583. Current best value is 0.0007278548811156032 with parameters: {'x': 1.973021214239414}.\n",
      "[I 2019-10-03 10:54:22,171] Finished trial#77 resulted in value: 0.4097803041292869. Current best value is 0.0007278548811156032 with parameters: {'x': 1.973021214239414}.\n",
      "[I 2019-10-03 10:54:22,210] Finished trial#78 resulted in value: 0.25350341890488615. Current best value is 0.0007278548811156032 with parameters: {'x': 1.973021214239414}.\n",
      "[I 2019-10-03 10:54:22,251] Finished trial#79 resulted in value: 6.8046805959935455. Current best value is 0.0007278548811156032 with parameters: {'x': 1.973021214239414}.\n",
      "[I 2019-10-03 10:54:22,292] Finished trial#80 resulted in value: 14.469288937085208. Current best value is 0.0007278548811156032 with parameters: {'x': 1.973021214239414}.\n",
      "[I 2019-10-03 10:54:22,333] Finished trial#81 resulted in value: 0.1377727458361547. Current best value is 0.0007278548811156032 with parameters: {'x': 1.973021214239414}.\n",
      "[I 2019-10-03 10:54:22,374] Finished trial#82 resulted in value: 0.012241261694044592. Current best value is 0.0007278548811156032 with parameters: {'x': 1.973021214239414}.\n",
      "[I 2019-10-03 10:54:22,414] Finished trial#83 resulted in value: 0.8196301728862633. Current best value is 0.0007278548811156032 with parameters: {'x': 1.973021214239414}.\n",
      "[I 2019-10-03 10:54:22,454] Finished trial#84 resulted in value: 0.01758723434227307. Current best value is 0.0007278548811156032 with parameters: {'x': 1.973021214239414}.\n",
      "[I 2019-10-03 10:54:22,495] Finished trial#85 resulted in value: 2.6888762199954694. Current best value is 0.0007278548811156032 with parameters: {'x': 1.973021214239414}.\n",
      "[I 2019-10-03 10:54:22,536] Finished trial#86 resulted in value: 1.5331899444099573. Current best value is 0.0007278548811156032 with parameters: {'x': 1.973021214239414}.\n",
      "[I 2019-10-03 10:54:22,578] Finished trial#87 resulted in value: 4.071397070014664. Current best value is 0.0007278548811156032 with parameters: {'x': 1.973021214239414}.\n",
      "[I 2019-10-03 10:54:22,618] Finished trial#88 resulted in value: 1.475590040855313. Current best value is 0.0007278548811156032 with parameters: {'x': 1.973021214239414}.\n",
      "[I 2019-10-03 10:54:22,659] Finished trial#89 resulted in value: 0.2555661130186615. Current best value is 0.0007278548811156032 with parameters: {'x': 1.973021214239414}.\n",
      "[I 2019-10-03 10:54:22,700] Finished trial#90 resulted in value: 6.840394552113957. Current best value is 0.0007278548811156032 with parameters: {'x': 1.973021214239414}.\n",
      "[I 2019-10-03 10:54:22,740] Finished trial#91 resulted in value: 0.011081743552689973. Current best value is 0.0007278548811156032 with parameters: {'x': 1.973021214239414}.\n",
      "[I 2019-10-03 10:54:22,782] Finished trial#92 resulted in value: 0.0002625289317362319. Current best value is 0.0002625289317362319 with parameters: {'x': 1.9837972554258165}.\n",
      "[I 2019-10-03 10:54:22,823] Finished trial#93 resulted in value: 4.408374903020324. Current best value is 0.0002625289317362319 with parameters: {'x': 1.9837972554258165}.\n",
      "[I 2019-10-03 10:54:22,863] Finished trial#94 resulted in value: 1.947583525640609. Current best value is 0.0002625289317362319 with parameters: {'x': 1.9837972554258165}.\n"
     ]
    },
    {
     "name": "stderr",
     "output_type": "stream",
     "text": [
      "[I 2019-10-03 10:54:22,905] Finished trial#95 resulted in value: 0.4138671855715072. Current best value is 0.0002625289317362319 with parameters: {'x': 1.9837972554258165}.\n",
      "[I 2019-10-03 10:54:22,948] Finished trial#96 resulted in value: 0.6169934296642753. Current best value is 0.0002625289317362319 with parameters: {'x': 1.9837972554258165}.\n",
      "[I 2019-10-03 10:54:22,989] Finished trial#97 resulted in value: 0.014998272012162769. Current best value is 0.0002625289317362319 with parameters: {'x': 1.9837972554258165}.\n",
      "[I 2019-10-03 10:54:23,032] Finished trial#98 resulted in value: 2.1041085943588693. Current best value is 0.0002625289317362319 with parameters: {'x': 1.9837972554258165}.\n",
      "[I 2019-10-03 10:54:23,074] Finished trial#99 resulted in value: 0.5256240574202102. Current best value is 0.0002625289317362319 with parameters: {'x': 1.9837972554258165}.\n"
     ]
    }
   ],
   "source": [
    "study = optuna.create_study()#pruner指定できる\n",
    "study.optimize(objective, n_trials=100)"
   ]
  },
  {
   "cell_type": "code",
   "execution_count": 3,
   "metadata": {},
   "outputs": [
    {
     "data": {
      "text/plain": [
       "{'x': 1.9837972554258165}"
      ]
     },
     "execution_count": 3,
     "metadata": {},
     "output_type": "execute_result"
    }
   ],
   "source": [
    "study.best_params"
   ]
  },
  {
   "cell_type": "code",
   "execution_count": 4,
   "metadata": {},
   "outputs": [
    {
     "data": {
      "text/plain": [
       "0.0002625289317362319"
      ]
     },
     "execution_count": 4,
     "metadata": {},
     "output_type": "execute_result"
    }
   ],
   "source": [
    "study.best_value"
   ]
  },
  {
   "cell_type": "code",
   "execution_count": 5,
   "metadata": {},
   "outputs": [
    {
     "data": {
      "text/plain": [
       "FrozenTrial(number=92, state=<TrialState.COMPLETE: 1>, value=0.0002625289317362319, datetime_start=datetime.datetime(2019, 10, 3, 10, 54, 22, 742792), datetime_complete=datetime.datetime(2019, 10, 3, 10, 54, 22, 776029), params={'x': 1.9837972554258165}, distributions={'x': UniformDistribution(low=-10, high=10)}, user_attrs={}, system_attrs={'_number': 92}, intermediate_values={}, trial_id=92)"
      ]
     },
     "execution_count": 5,
     "metadata": {},
     "output_type": "execute_result"
    }
   ],
   "source": [
    "study.best_trial"
   ]
  },
  {
   "cell_type": "code",
   "execution_count": 6,
   "metadata": {},
   "outputs": [
    {
     "data": {
      "text/plain": [
       "[FrozenTrial(number=0, state=<TrialState.COMPLETE: 1>, value=3.1715036046342178, datetime_start=datetime.datetime(2019, 10, 3, 10, 54, 19, 316488), datetime_complete=datetime.datetime(2019, 10, 3, 10, 54, 19, 346667), params={'x': 0.21912841433352703}, distributions={'x': UniformDistribution(low=-10, high=10)}, user_attrs={}, system_attrs={'_number': 0}, intermediate_values={}, trial_id=0),\n",
       " FrozenTrial(number=1, state=<TrialState.COMPLETE: 1>, value=61.95659919923789, datetime_start=datetime.datetime(2019, 10, 3, 10, 54, 19, 349079), datetime_complete=datetime.datetime(2019, 10, 3, 10, 54, 19, 378093), params={'x': 9.8712514379378}, distributions={'x': UniformDistribution(low=-10, high=10)}, user_attrs={}, system_attrs={'_number': 1}, intermediate_values={}, trial_id=1),\n",
       " FrozenTrial(number=2, state=<TrialState.COMPLETE: 1>, value=31.52490882571721, datetime_start=datetime.datetime(2019, 10, 3, 10, 54, 19, 380562), datetime_complete=datetime.datetime(2019, 10, 3, 10, 54, 19, 411728), params={'x': 7.614704696216641}, distributions={'x': UniformDistribution(low=-10, high=10)}, user_attrs={}, system_attrs={'_number': 2}, intermediate_values={}, trial_id=2),\n",
       " FrozenTrial(number=3, state=<TrialState.COMPLETE: 1>, value=96.084725246671, datetime_start=datetime.datetime(2019, 10, 3, 10, 54, 19, 414262), datetime_complete=datetime.datetime(2019, 10, 3, 10, 54, 19, 444954), params={'x': -7.8022816347354045}, distributions={'x': UniformDistribution(low=-10, high=10)}, user_attrs={}, system_attrs={'_number': 3}, intermediate_values={}, trial_id=3),\n",
       " FrozenTrial(number=4, state=<TrialState.COMPLETE: 1>, value=92.13446483432035, datetime_start=datetime.datetime(2019, 10, 3, 10, 54, 19, 447491), datetime_complete=datetime.datetime(2019, 10, 3, 10, 54, 19, 478760), params={'x': -7.598669951317232}, distributions={'x': UniformDistribution(low=-10, high=10)}, user_attrs={}, system_attrs={'_number': 4}, intermediate_values={}, trial_id=4),\n",
       " FrozenTrial(number=5, state=<TrialState.COMPLETE: 1>, value=91.41622704095417, datetime_start=datetime.datetime(2019, 10, 3, 10, 54, 19, 481387), datetime_complete=datetime.datetime(2019, 10, 3, 10, 54, 19, 513143), params={'x': -7.561183349405772}, distributions={'x': UniformDistribution(low=-10, high=10)}, user_attrs={}, system_attrs={'_number': 5}, intermediate_values={}, trial_id=5),\n",
       " FrozenTrial(number=6, state=<TrialState.COMPLETE: 1>, value=17.259589462138596, datetime_start=datetime.datetime(2019, 10, 3, 10, 54, 19, 515689), datetime_complete=datetime.datetime(2019, 10, 3, 10, 54, 19, 547392), params={'x': 6.15446620664299}, distributions={'x': UniformDistribution(low=-10, high=10)}, user_attrs={}, system_attrs={'_number': 6}, intermediate_values={}, trial_id=6),\n",
       " FrozenTrial(number=7, state=<TrialState.COMPLETE: 1>, value=42.61885226002864, datetime_start=datetime.datetime(2019, 10, 3, 10, 54, 19, 550204), datetime_complete=datetime.datetime(2019, 10, 3, 10, 54, 19, 580469), params={'x': -4.528311593362302}, distributions={'x': UniformDistribution(low=-10, high=10)}, user_attrs={}, system_attrs={'_number': 7}, intermediate_values={}, trial_id=7),\n",
       " FrozenTrial(number=8, state=<TrialState.COMPLETE: 1>, value=24.903644750178998, datetime_start=datetime.datetime(2019, 10, 3, 10, 54, 19, 582881), datetime_complete=datetime.datetime(2019, 10, 3, 10, 54, 19, 612362), params={'x': 6.990355172748629}, distributions={'x': UniformDistribution(low=-10, high=10)}, user_attrs={}, system_attrs={'_number': 8}, intermediate_values={}, trial_id=8),\n",
       " FrozenTrial(number=9, state=<TrialState.COMPLETE: 1>, value=73.50075536700491, datetime_start=datetime.datetime(2019, 10, 3, 10, 54, 19, 615202), datetime_complete=datetime.datetime(2019, 10, 3, 10, 54, 19, 646089), params={'x': -6.573258153526284}, distributions={'x': UniformDistribution(low=-10, high=10)}, user_attrs={}, system_attrs={'_number': 9}, intermediate_values={}, trial_id=9),\n",
       " FrozenTrial(number=10, state=<TrialState.COMPLETE: 1>, value=1.147442384465937, datetime_start=datetime.datetime(2019, 10, 3, 10, 54, 19, 649216), datetime_complete=datetime.datetime(2019, 10, 3, 10, 54, 19, 682390), params={'x': 0.928812628684441}, distributions={'x': UniformDistribution(low=-10, high=10)}, user_attrs={}, system_attrs={'_number': 10}, intermediate_values={}, trial_id=10),\n",
       " FrozenTrial(number=11, state=<TrialState.COMPLETE: 1>, value=1.5724872672972974, datetime_start=datetime.datetime(2019, 10, 3, 10, 54, 19, 685419), datetime_complete=datetime.datetime(2019, 10, 3, 10, 54, 19, 718102), params={'x': 0.7460114564728683}, distributions={'x': UniformDistribution(low=-10, high=10)}, user_attrs={}, system_attrs={'_number': 11}, intermediate_values={}, trial_id=11),\n",
       " FrozenTrial(number=12, state=<TrialState.COMPLETE: 1>, value=1.391244246995577, datetime_start=datetime.datetime(2019, 10, 3, 10, 54, 19, 720992), datetime_complete=datetime.datetime(2019, 10, 3, 10, 54, 19, 753376), params={'x': 0.8204898275150074}, distributions={'x': UniformDistribution(low=-10, high=10)}, user_attrs={}, system_attrs={'_number': 12}, intermediate_values={}, trial_id=12),\n",
       " FrozenTrial(number=13, state=<TrialState.COMPLETE: 1>, value=1.3571157479243476, datetime_start=datetime.datetime(2019, 10, 3, 10, 54, 19, 756524), datetime_complete=datetime.datetime(2019, 10, 3, 10, 54, 19, 788849), params={'x': 3.164953109753499}, distributions={'x': UniformDistribution(low=-10, high=10)}, user_attrs={}, system_attrs={'_number': 13}, intermediate_values={}, trial_id=13),\n",
       " FrozenTrial(number=14, state=<TrialState.COMPLETE: 1>, value=2.823438994945096, datetime_start=datetime.datetime(2019, 10, 3, 10, 54, 19, 791918), datetime_complete=datetime.datetime(2019, 10, 3, 10, 54, 19, 823656), params={'x': 3.680309196232972}, distributions={'x': UniformDistribution(low=-10, high=10)}, user_attrs={}, system_attrs={'_number': 14}, intermediate_values={}, trial_id=14),\n",
       " FrozenTrial(number=15, state=<TrialState.COMPLETE: 1>, value=21.192383126034265, datetime_start=datetime.datetime(2019, 10, 3, 10, 54, 19, 826922), datetime_complete=datetime.datetime(2019, 10, 3, 10, 54, 19, 859323), params={'x': -2.6035185593233217}, distributions={'x': UniformDistribution(low=-10, high=10)}, user_attrs={}, system_attrs={'_number': 15}, intermediate_values={}, trial_id=15),\n",
       " FrozenTrial(number=16, state=<TrialState.COMPLETE: 1>, value=0.9578683428521803, datetime_start=datetime.datetime(2019, 10, 3, 10, 54, 19, 862620), datetime_complete=datetime.datetime(2019, 10, 3, 10, 54, 19, 895221), params={'x': 2.978707485846604}, distributions={'x': UniformDistribution(low=-10, high=10)}, user_attrs={}, system_attrs={'_number': 16}, intermediate_values={}, trial_id=16),\n",
       " FrozenTrial(number=17, state=<TrialState.COMPLETE: 1>, value=19.429030989323923, datetime_start=datetime.datetime(2019, 10, 3, 10, 54, 19, 898512), datetime_complete=datetime.datetime(2019, 10, 3, 10, 54, 19, 930922), params={'x': -2.4078374504198683}, distributions={'x': UniformDistribution(low=-10, high=10)}, user_attrs={}, system_attrs={'_number': 17}, intermediate_values={}, trial_id=17),\n",
       " FrozenTrial(number=18, state=<TrialState.COMPLETE: 1>, value=2.027307434412405, datetime_start=datetime.datetime(2019, 10, 3, 10, 54, 19, 934136), datetime_complete=datetime.datetime(2019, 10, 3, 10, 54, 19, 964942), params={'x': 3.42383546606074}, distributions={'x': UniformDistribution(low=-10, high=10)}, user_attrs={}, system_attrs={'_number': 18}, intermediate_values={}, trial_id=18),\n",
       " FrozenTrial(number=19, state=<TrialState.COMPLETE: 1>, value=19.649121360968557, datetime_start=datetime.datetime(2019, 10, 3, 10, 54, 19, 968593), datetime_complete=datetime.datetime(2019, 10, 3, 10, 54, 20, 869), params={'x': -2.432732944918807}, distributions={'x': UniformDistribution(low=-10, high=10)}, user_attrs={}, system_attrs={'_number': 19}, intermediate_values={}, trial_id=19),\n",
       " FrozenTrial(number=20, state=<TrialState.COMPLETE: 1>, value=8.97259100610465, datetime_start=datetime.datetime(2019, 10, 3, 10, 54, 20, 4442), datetime_complete=datetime.datetime(2019, 10, 3, 10, 54, 20, 36711), params={'x': 4.995428351021712}, distributions={'x': UniformDistribution(low=-10, high=10)}, user_attrs={}, system_attrs={'_number': 20}, intermediate_values={}, trial_id=20),\n",
       " FrozenTrial(number=21, state=<TrialState.COMPLETE: 1>, value=0.3171851179612107, datetime_start=datetime.datetime(2019, 10, 3, 10, 54, 20, 40306), datetime_complete=datetime.datetime(2019, 10, 3, 10, 54, 20, 73645), params={'x': 2.563191901540861}, distributions={'x': UniformDistribution(low=-10, high=10)}, user_attrs={}, system_attrs={'_number': 21}, intermediate_values={}, trial_id=21),\n",
       " FrozenTrial(number=22, state=<TrialState.COMPLETE: 1>, value=0.011184184117133534, datetime_start=datetime.datetime(2019, 10, 3, 10, 54, 20, 76729), datetime_complete=datetime.datetime(2019, 10, 3, 10, 54, 20, 109266), params={'x': 2.105755303021331}, distributions={'x': UniformDistribution(low=-10, high=10)}, user_attrs={}, system_attrs={'_number': 22}, intermediate_values={}, trial_id=22),\n",
       " FrozenTrial(number=23, state=<TrialState.COMPLETE: 1>, value=0.40152020350818735, datetime_start=datetime.datetime(2019, 10, 3, 10, 54, 20, 112928), datetime_complete=datetime.datetime(2019, 10, 3, 10, 54, 20, 144955), params={'x': 2.633656218708684}, distributions={'x': UniformDistribution(low=-10, high=10)}, user_attrs={}, system_attrs={'_number': 23}, intermediate_values={}, trial_id=23),\n",
       " FrozenTrial(number=24, state=<TrialState.COMPLETE: 1>, value=0.005976930361810777, datetime_start=datetime.datetime(2019, 10, 3, 10, 54, 20, 148619), datetime_complete=datetime.datetime(2019, 10, 3, 10, 54, 20, 181008), params={'x': 2.077310609632901}, distributions={'x': UniformDistribution(low=-10, high=10)}, user_attrs={}, system_attrs={'_number': 24}, intermediate_values={}, trial_id=24),\n",
       " FrozenTrial(number=25, state=<TrialState.COMPLETE: 1>, value=9.960304142839826, datetime_start=datetime.datetime(2019, 10, 3, 10, 54, 20, 184678), datetime_complete=datetime.datetime(2019, 10, 3, 10, 54, 20, 215358), params={'x': -1.1559949529173563}, distributions={'x': UniformDistribution(low=-10, high=10)}, user_attrs={}, system_attrs={'_number': 25}, intermediate_values={}, trial_id=25),\n",
       " FrozenTrial(number=26, state=<TrialState.COMPLETE: 1>, value=9.33135555610632, datetime_start=datetime.datetime(2019, 10, 3, 10, 54, 20, 219343), datetime_complete=datetime.datetime(2019, 10, 3, 10, 54, 20, 251532), params={'x': 5.054726756373853}, distributions={'x': UniformDistribution(low=-10, high=10)}, user_attrs={}, system_attrs={'_number': 26}, intermediate_values={}, trial_id=26),\n",
       " FrozenTrial(number=27, state=<TrialState.COMPLETE: 1>, value=41.48588954588056, datetime_start=datetime.datetime(2019, 10, 3, 10, 54, 20, 255399), datetime_complete=datetime.datetime(2019, 10, 3, 10, 54, 20, 287282), params={'x': 8.440954086614852}, distributions={'x': UniformDistribution(low=-10, high=10)}, user_attrs={}, system_attrs={'_number': 27}, intermediate_values={}, trial_id=27),\n",
       " FrozenTrial(number=28, state=<TrialState.COMPLETE: 1>, value=0.0007278548811156032, datetime_start=datetime.datetime(2019, 10, 3, 10, 54, 20, 291274), datetime_complete=datetime.datetime(2019, 10, 3, 10, 54, 20, 324406), params={'x': 1.973021214239414}, distributions={'x': UniformDistribution(low=-10, high=10)}, user_attrs={}, system_attrs={'_number': 28}, intermediate_values={}, trial_id=28),\n",
       " FrozenTrial(number=29, state=<TrialState.COMPLETE: 1>, value=3.8832868813398465, datetime_start=datetime.datetime(2019, 10, 3, 10, 54, 20, 328385), datetime_complete=datetime.datetime(2019, 10, 3, 10, 54, 20, 360333), params={'x': 0.02939428567258886}, distributions={'x': UniformDistribution(low=-10, high=10)}, user_attrs={}, system_attrs={'_number': 29}, intermediate_values={}, trial_id=29),\n",
       " FrozenTrial(number=30, state=<TrialState.COMPLETE: 1>, value=10.134974968914072, datetime_start=datetime.datetime(2019, 10, 3, 10, 54, 20, 364382), datetime_complete=datetime.datetime(2019, 10, 3, 10, 54, 20, 396535), params={'x': -1.183547544629116}, distributions={'x': UniformDistribution(low=-10, high=10)}, user_attrs={}, system_attrs={'_number': 30}, intermediate_values={}, trial_id=30),\n",
       " FrozenTrial(number=31, state=<TrialState.COMPLETE: 1>, value=0.04580668979731747, datetime_start=datetime.datetime(2019, 10, 3, 10, 54, 20, 400749), datetime_complete=datetime.datetime(2019, 10, 3, 10, 54, 20, 431562), params={'x': 1.7859750252953701}, distributions={'x': UniformDistribution(low=-10, high=10)}, user_attrs={}, system_attrs={'_number': 31}, intermediate_values={}, trial_id=31),\n",
       " FrozenTrial(number=32, state=<TrialState.COMPLETE: 1>, value=0.10175208013643677, datetime_start=datetime.datetime(2019, 10, 3, 10, 54, 20, 435994), datetime_complete=datetime.datetime(2019, 10, 3, 10, 54, 20, 468388), params={'x': 1.681013981283761}, distributions={'x': UniformDistribution(low=-10, high=10)}, user_attrs={}, system_attrs={'_number': 32}, intermediate_values={}, trial_id=32),\n",
       " FrozenTrial(number=33, state=<TrialState.COMPLETE: 1>, value=5.6143794856529095, datetime_start=datetime.datetime(2019, 10, 3, 10, 54, 20, 472732), datetime_complete=datetime.datetime(2019, 10, 3, 10, 54, 20, 505404), params={'x': 4.369468186250431}, distributions={'x': UniformDistribution(low=-10, high=10)}, user_attrs={}, system_attrs={'_number': 33}, intermediate_values={}, trial_id=33),\n",
       " FrozenTrial(number=34, state=<TrialState.COMPLETE: 1>, value=0.005450432167587086, datetime_start=datetime.datetime(2019, 10, 3, 10, 54, 20, 509625), datetime_complete=datetime.datetime(2019, 10, 3, 10, 54, 20, 541819), params={'x': 1.9261729577486197}, distributions={'x': UniformDistribution(low=-10, high=10)}, user_attrs={}, system_attrs={'_number': 34}, intermediate_values={}, trial_id=34),\n",
       " FrozenTrial(number=35, state=<TrialState.COMPLETE: 1>, value=13.670849815652055, datetime_start=datetime.datetime(2019, 10, 3, 10, 54, 20, 546218), datetime_complete=datetime.datetime(2019, 10, 3, 10, 54, 20, 579747), params={'x': 5.697411231612201}, distributions={'x': UniformDistribution(low=-10, high=10)}, user_attrs={}, system_attrs={'_number': 35}, intermediate_values={}, trial_id=35),\n",
       " FrozenTrial(number=36, state=<TrialState.COMPLETE: 1>, value=4.486513260692687, datetime_start=datetime.datetime(2019, 10, 3, 10, 54, 20, 583937), datetime_complete=datetime.datetime(2019, 10, 3, 10, 54, 20, 615582), params={'x': -0.11813910324432841}, distributions={'x': UniformDistribution(low=-10, high=10)}, user_attrs={}, system_attrs={'_number': 36}, intermediate_values={}, trial_id=36),\n",
       " FrozenTrial(number=37, state=<TrialState.COMPLETE: 1>, value=9.4631805398325, datetime_start=datetime.datetime(2019, 10, 3, 10, 54, 20, 619807), datetime_complete=datetime.datetime(2019, 10, 3, 10, 54, 20, 651378), params={'x': -1.076228297742627}, distributions={'x': UniformDistribution(low=-10, high=10)}, user_attrs={}, system_attrs={'_number': 37}, intermediate_values={}, trial_id=37),\n",
       " FrozenTrial(number=38, state=<TrialState.COMPLETE: 1>, value=0.014936238583316256, datetime_start=datetime.datetime(2019, 10, 3, 10, 54, 20, 656240), datetime_complete=datetime.datetime(2019, 10, 3, 10, 54, 20, 688547), params={'x': 1.8777860949674046}, distributions={'x': UniformDistribution(low=-10, high=10)}, user_attrs={}, system_attrs={'_number': 38}, intermediate_values={}, trial_id=38),\n",
       " FrozenTrial(number=39, state=<TrialState.COMPLETE: 1>, value=37.31061916973304, datetime_start=datetime.datetime(2019, 10, 3, 10, 54, 20, 693957), datetime_complete=datetime.datetime(2019, 10, 3, 10, 54, 20, 726675), params={'x': -4.108241904978309}, distributions={'x': UniformDistribution(low=-10, high=10)}, user_attrs={}, system_attrs={'_number': 39}, intermediate_values={}, trial_id=39),\n",
       " FrozenTrial(number=40, state=<TrialState.COMPLETE: 1>, value=5.003056051456997, datetime_start=datetime.datetime(2019, 10, 3, 10, 54, 20, 731803), datetime_complete=datetime.datetime(2019, 10, 3, 10, 54, 20, 764073), params={'x': 4.2367512269935155}, distributions={'x': UniformDistribution(low=-10, high=10)}, user_attrs={}, system_attrs={'_number': 40}, intermediate_values={}, trial_id=40),\n",
       " FrozenTrial(number=41, state=<TrialState.COMPLETE: 1>, value=0.02790122366110979, datetime_start=datetime.datetime(2019, 10, 3, 10, 54, 20, 768635), datetime_complete=datetime.datetime(2019, 10, 3, 10, 54, 20, 800461), params={'x': 1.8329634062215414}, distributions={'x': UniformDistribution(low=-10, high=10)}, user_attrs={}, system_attrs={'_number': 41}, intermediate_values={}, trial_id=41),\n",
       " FrozenTrial(number=42, state=<TrialState.COMPLETE: 1>, value=0.04332197447380583, datetime_start=datetime.datetime(2019, 10, 3, 10, 54, 20, 805385), datetime_complete=datetime.datetime(2019, 10, 3, 10, 54, 20, 837394), params={'x': 1.791860684939616}, distributions={'x': UniformDistribution(low=-10, high=10)}, user_attrs={}, system_attrs={'_number': 42}, intermediate_values={}, trial_id=42),\n",
       " FrozenTrial(number=43, state=<TrialState.COMPLETE: 1>, value=6.717009316374525, datetime_start=datetime.datetime(2019, 10, 3, 10, 54, 20, 842327), datetime_complete=datetime.datetime(2019, 10, 3, 10, 54, 20, 874180), params={'x': -0.5917193745416429}, distributions={'x': UniformDistribution(low=-10, high=10)}, user_attrs={}, system_attrs={'_number': 43}, intermediate_values={}, trial_id=43),\n",
       " FrozenTrial(number=44, state=<TrialState.COMPLETE: 1>, value=23.793988132600315, datetime_start=datetime.datetime(2019, 10, 3, 10, 54, 20, 878967), datetime_complete=datetime.datetime(2019, 10, 3, 10, 54, 20, 910708), params={'x': 6.877908171808928}, distributions={'x': UniformDistribution(low=-10, high=10)}, user_attrs={}, system_attrs={'_number': 44}, intermediate_values={}, trial_id=44),\n",
       " FrozenTrial(number=45, state=<TrialState.COMPLETE: 1>, value=1.6628365768924198, datetime_start=datetime.datetime(2019, 10, 3, 10, 54, 20, 915759), datetime_complete=datetime.datetime(2019, 10, 3, 10, 54, 20, 947558), params={'x': 0.7104897918618791}, distributions={'x': UniformDistribution(low=-10, high=10)}, user_attrs={}, system_attrs={'_number': 45}, intermediate_values={}, trial_id=45),\n",
       " FrozenTrial(number=46, state=<TrialState.COMPLETE: 1>, value=139.56040665372333, datetime_start=datetime.datetime(2019, 10, 3, 10, 54, 20, 952405), datetime_complete=datetime.datetime(2019, 10, 3, 10, 54, 20, 984730), params={'x': -9.813568751809223}, distributions={'x': UniformDistribution(low=-10, high=10)}, user_attrs={}, system_attrs={'_number': 46}, intermediate_values={}, trial_id=46),\n",
       " FrozenTrial(number=47, state=<TrialState.COMPLETE: 1>, value=4.303001619855028, datetime_start=datetime.datetime(2019, 10, 3, 10, 54, 20, 990305), datetime_complete=datetime.datetime(2019, 10, 3, 10, 54, 21, 22035), params={'x': 4.074367763887356}, distributions={'x': UniformDistribution(low=-10, high=10)}, user_attrs={}, system_attrs={'_number': 47}, intermediate_values={}, trial_id=47),\n",
       " FrozenTrial(number=48, state=<TrialState.COMPLETE: 1>, value=0.4339587810783703, datetime_start=datetime.datetime(2019, 10, 3, 10, 54, 21, 27438), datetime_complete=datetime.datetime(2019, 10, 3, 10, 54, 21, 59617), params={'x': 2.6587554789740806}, distributions={'x': UniformDistribution(low=-10, high=10)}, user_attrs={}, system_attrs={'_number': 48}, intermediate_values={}, trial_id=48),\n",
       " FrozenTrial(number=49, state=<TrialState.COMPLETE: 1>, value=0.7148689002578842, datetime_start=datetime.datetime(2019, 10, 3, 10, 54, 21, 64765), datetime_complete=datetime.datetime(2019, 10, 3, 10, 54, 21, 97512), params={'x': 1.1545007981920479}, distributions={'x': UniformDistribution(low=-10, high=10)}, user_attrs={}, system_attrs={'_number': 49}, intermediate_values={}, trial_id=49),\n",
       " FrozenTrial(number=50, state=<TrialState.COMPLETE: 1>, value=15.802137608029447, datetime_start=datetime.datetime(2019, 10, 3, 10, 54, 21, 103050), datetime_complete=datetime.datetime(2019, 10, 3, 10, 54, 21, 134765), params={'x': 5.975190260607591}, distributions={'x': UniformDistribution(low=-10, high=10)}, user_attrs={}, system_attrs={'_number': 50}, intermediate_values={}, trial_id=50),\n",
       " FrozenTrial(number=51, state=<TrialState.COMPLETE: 1>, value=0.034817889640278016, datetime_start=datetime.datetime(2019, 10, 3, 10, 54, 21, 140459), datetime_complete=datetime.datetime(2019, 10, 3, 10, 54, 21, 172153), params={'x': 2.1865955241700026}, distributions={'x': UniformDistribution(low=-10, high=10)}, user_attrs={}, system_attrs={'_number': 51}, intermediate_values={}, trial_id=51),\n",
       " FrozenTrial(number=52, state=<TrialState.COMPLETE: 1>, value=0.6420436593652157, datetime_start=datetime.datetime(2019, 10, 3, 10, 54, 21, 177672), datetime_complete=datetime.datetime(2019, 10, 3, 10, 54, 21, 209797), params={'x': 1.1987237309359426}, distributions={'x': UniformDistribution(low=-10, high=10)}, user_attrs={}, system_attrs={'_number': 52}, intermediate_values={}, trial_id=52),\n",
       " FrozenTrial(number=53, state=<TrialState.COMPLETE: 1>, value=2.285230721185607, datetime_start=datetime.datetime(2019, 10, 3, 10, 54, 21, 215365), datetime_complete=datetime.datetime(2019, 10, 3, 10, 54, 21, 248042), params={'x': 3.511697959641941}, distributions={'x': UniformDistribution(low=-10, high=10)}, user_attrs={}, system_attrs={'_number': 53}, intermediate_values={}, trial_id=53),\n",
       " FrozenTrial(number=54, state=<TrialState.COMPLETE: 1>, value=2.997185154732068, datetime_start=datetime.datetime(2019, 10, 3, 10, 54, 21, 253685), datetime_complete=datetime.datetime(2019, 10, 3, 10, 54, 21, 285895), params={'x': 0.2687619589634509}, distributions={'x': UniformDistribution(low=-10, high=10)}, user_attrs={}, system_attrs={'_number': 54}, intermediate_values={}, trial_id=54),\n",
       " FrozenTrial(number=55, state=<TrialState.COMPLETE: 1>, value=0.002540985561372862, datetime_start=datetime.datetime(2019, 10, 3, 10, 54, 21, 292281), datetime_complete=datetime.datetime(2019, 10, 3, 10, 54, 21, 323830), params={'x': 2.0504081894276402}, distributions={'x': UniformDistribution(low=-10, high=10)}, user_attrs={}, system_attrs={'_number': 55}, intermediate_values={}, trial_id=55),\n",
       " FrozenTrial(number=56, state=<TrialState.COMPLETE: 1>, value=1.0546159919521152, datetime_start=datetime.datetime(2019, 10, 3, 10, 54, 21, 328906), datetime_complete=datetime.datetime(2019, 10, 3, 10, 54, 21, 358301), params={'x': 3.026944980002393}, distributions={'x': UniformDistribution(low=-10, high=10)}, user_attrs={}, system_attrs={'_number': 56}, intermediate_values={}, trial_id=56),\n",
       " FrozenTrial(number=57, state=<TrialState.COMPLETE: 1>, value=7.446345231933712, datetime_start=datetime.datetime(2019, 10, 3, 10, 54, 21, 363544), datetime_complete=datetime.datetime(2019, 10, 3, 10, 54, 21, 395350), params={'x': 4.728799228952858}, distributions={'x': UniformDistribution(low=-10, high=10)}, user_attrs={}, system_attrs={'_number': 57}, intermediate_values={}, trial_id=57),\n",
       " FrozenTrial(number=58, state=<TrialState.COMPLETE: 1>, value=2.494867544355294, datetime_start=datetime.datetime(2019, 10, 3, 10, 54, 21, 401364), datetime_complete=datetime.datetime(2019, 10, 3, 10, 54, 21, 432827), params={'x': 3.579514971234934}, distributions={'x': UniformDistribution(low=-10, high=10)}, user_attrs={}, system_attrs={'_number': 58}, intermediate_values={}, trial_id=58),\n",
       " FrozenTrial(number=59, state=<TrialState.COMPLETE: 1>, value=13.385980332543317, datetime_start=datetime.datetime(2019, 10, 3, 10, 54, 21, 438876), datetime_complete=datetime.datetime(2019, 10, 3, 10, 54, 21, 469994), params={'x': -1.6586856017623757}, distributions={'x': UniformDistribution(low=-10, high=10)}, user_attrs={}, system_attrs={'_number': 59}, intermediate_values={}, trial_id=59),\n",
       " FrozenTrial(number=60, state=<TrialState.COMPLETE: 1>, value=2.4013597480000173, datetime_start=datetime.datetime(2019, 10, 3, 10, 54, 21, 476871), datetime_complete=datetime.datetime(2019, 10, 3, 10, 54, 21, 509094), params={'x': 0.4503678668793625}, distributions={'x': UniformDistribution(low=-10, high=10)}, user_attrs={}, system_attrs={'_number': 60}, intermediate_values={}, trial_id=60),\n",
       " FrozenTrial(number=61, state=<TrialState.COMPLETE: 1>, value=0.004918773099855662, datetime_start=datetime.datetime(2019, 10, 3, 10, 54, 21, 515167), datetime_complete=datetime.datetime(2019, 10, 3, 10, 54, 21, 547697), params={'x': 2.0701339653795197}, distributions={'x': UniformDistribution(low=-10, high=10)}, user_attrs={}, system_attrs={'_number': 61}, intermediate_values={}, trial_id=61),\n",
       " FrozenTrial(number=62, state=<TrialState.COMPLETE: 1>, value=0.13661230434329175, datetime_start=datetime.datetime(2019, 10, 3, 10, 54, 21, 554123), datetime_complete=datetime.datetime(2019, 10, 3, 10, 54, 21, 585895), params={'x': 2.369611017616212}, distributions={'x': UniformDistribution(low=-10, high=10)}, user_attrs={}, system_attrs={'_number': 62}, intermediate_values={}, trial_id=62),\n",
       " FrozenTrial(number=63, state=<TrialState.COMPLETE: 1>, value=0.8557934807735502, datetime_start=datetime.datetime(2019, 10, 3, 10, 54, 21, 592417), datetime_complete=datetime.datetime(2019, 10, 3, 10, 54, 21, 624810), params={'x': 1.0749089337943263}, distributions={'x': UniformDistribution(low=-10, high=10)}, user_attrs={}, system_attrs={'_number': 63}, intermediate_values={}, trial_id=63),\n",
       " FrozenTrial(number=64, state=<TrialState.COMPLETE: 1>, value=0.3612703138073073, datetime_start=datetime.datetime(2019, 10, 3, 10, 54, 21, 631036), datetime_complete=datetime.datetime(2019, 10, 3, 10, 54, 21, 662803), params={'x': 1.3989423373691112}, distributions={'x': UniformDistribution(low=-10, high=10)}, user_attrs={}, system_attrs={'_number': 64}, intermediate_values={}, trial_id=64),\n",
       " FrozenTrial(number=65, state=<TrialState.COMPLETE: 1>, value=0.9007639889181488, datetime_start=datetime.datetime(2019, 10, 3, 10, 54, 21, 668979), datetime_complete=datetime.datetime(2019, 10, 3, 10, 54, 21, 700583), params={'x': 2.9490858701498768}, distributions={'x': UniformDistribution(low=-10, high=10)}, user_attrs={}, system_attrs={'_number': 65}, intermediate_values={}, trial_id=65),\n",
       " FrozenTrial(number=66, state=<TrialState.COMPLETE: 1>, value=0.07472215367232869, datetime_start=datetime.datetime(2019, 10, 3, 10, 54, 21, 706978), datetime_complete=datetime.datetime(2019, 10, 3, 10, 54, 21, 738949), params={'x': 2.2733535323940934}, distributions={'x': UniformDistribution(low=-10, high=10)}, user_attrs={}, system_attrs={'_number': 66}, intermediate_values={}, trial_id=66),\n",
       " FrozenTrial(number=67, state=<TrialState.COMPLETE: 1>, value=5.1299562553349665, datetime_start=datetime.datetime(2019, 10, 3, 10, 54, 21, 745657), datetime_complete=datetime.datetime(2019, 10, 3, 10, 54, 21, 777939), params={'x': -0.264940673689924}, distributions={'x': UniformDistribution(low=-10, high=10)}, user_attrs={}, system_attrs={'_number': 67}, intermediate_values={}, trial_id=67),\n",
       " FrozenTrial(number=68, state=<TrialState.COMPLETE: 1>, value=3.704730519868545, datetime_start=datetime.datetime(2019, 10, 3, 10, 54, 21, 784603), datetime_complete=datetime.datetime(2019, 10, 3, 10, 54, 21, 816415), params={'x': 3.9247676534762697}, distributions={'x': UniformDistribution(low=-10, high=10)}, user_attrs={}, system_attrs={'_number': 68}, intermediate_values={}, trial_id=68),\n",
       " FrozenTrial(number=69, state=<TrialState.COMPLETE: 1>, value=10.077107305183823, datetime_start=datetime.datetime(2019, 10, 3, 10, 54, 21, 823086), datetime_complete=datetime.datetime(2019, 10, 3, 10, 54, 21, 854684), params={'x': 5.174445983976389}, distributions={'x': UniformDistribution(low=-10, high=10)}, user_attrs={}, system_attrs={'_number': 69}, intermediate_values={}, trial_id=69),\n",
       " FrozenTrial(number=70, state=<TrialState.COMPLETE: 1>, value=6.719856230390069, datetime_start=datetime.datetime(2019, 10, 3, 10, 54, 21, 861606), datetime_complete=datetime.datetime(2019, 10, 3, 10, 54, 21, 893513), params={'x': -0.5922685490492818}, distributions={'x': UniformDistribution(low=-10, high=10)}, user_attrs={}, system_attrs={'_number': 70}, intermediate_values={}, trial_id=70),\n",
       " FrozenTrial(number=71, state=<TrialState.COMPLETE: 1>, value=0.0506463792248046, datetime_start=datetime.datetime(2019, 10, 3, 10, 54, 21, 900149), datetime_complete=datetime.datetime(2019, 10, 3, 10, 54, 21, 931666), params={'x': 1.7749524956263576}, distributions={'x': UniformDistribution(low=-10, high=10)}, user_attrs={}, system_attrs={'_number': 71}, intermediate_values={}, trial_id=71),\n",
       " FrozenTrial(number=72, state=<TrialState.COMPLETE: 1>, value=0.0026985094156638995, datetime_start=datetime.datetime(2019, 10, 3, 10, 54, 21, 938487), datetime_complete=datetime.datetime(2019, 10, 3, 10, 54, 21, 969724), params={'x': 2.051947179092458}, distributions={'x': UniformDistribution(low=-10, high=10)}, user_attrs={}, system_attrs={'_number': 72}, intermediate_values={}, trial_id=72),\n",
       " FrozenTrial(number=73, state=<TrialState.COMPLETE: 1>, value=1.5256259086654924, datetime_start=datetime.datetime(2019, 10, 3, 10, 54, 21, 976858), datetime_complete=datetime.datetime(2019, 10, 3, 10, 54, 22, 9425), params={'x': 3.235162300536044}, distributions={'x': UniformDistribution(low=-10, high=10)}, user_attrs={}, system_attrs={'_number': 73}, intermediate_values={}, trial_id=73),\n",
       " FrozenTrial(number=74, state=<TrialState.COMPLETE: 1>, value=2.6591379906242825, datetime_start=datetime.datetime(2019, 10, 3, 10, 54, 22, 16218), datetime_complete=datetime.datetime(2019, 10, 3, 10, 54, 22, 47987), params={'x': 0.3693136443128364}, distributions={'x': UniformDistribution(low=-10, high=10)}, user_attrs={}, system_attrs={'_number': 74}, intermediate_values={}, trial_id=74),\n",
       " FrozenTrial(number=75, state=<TrialState.COMPLETE: 1>, value=0.03088511246835188, datetime_start=datetime.datetime(2019, 10, 3, 10, 54, 22, 55110), datetime_complete=datetime.datetime(2019, 10, 3, 10, 54, 22, 88035), params={'x': 2.175741607106433}, distributions={'x': UniformDistribution(low=-10, high=10)}, user_attrs={}, system_attrs={'_number': 75}, intermediate_values={}, trial_id=75),\n",
       " FrozenTrial(number=76, state=<TrialState.COMPLETE: 1>, value=1.0278873494057583, datetime_start=datetime.datetime(2019, 10, 3, 10, 54, 22, 95595), datetime_complete=datetime.datetime(2019, 10, 3, 10, 54, 22, 128395), params={'x': 0.9861522059965024}, distributions={'x': UniformDistribution(low=-10, high=10)}, user_attrs={}, system_attrs={'_number': 76}, intermediate_values={}, trial_id=76),\n",
       " FrozenTrial(number=77, state=<TrialState.COMPLETE: 1>, value=0.4097803041292869, datetime_start=datetime.datetime(2019, 10, 3, 10, 54, 22, 134992), datetime_complete=datetime.datetime(2019, 10, 3, 10, 54, 22, 166083), params={'x': 2.640140847102641}, distributions={'x': UniformDistribution(low=-10, high=10)}, user_attrs={}, system_attrs={'_number': 77}, intermediate_values={}, trial_id=77),\n",
       " FrozenTrial(number=78, state=<TrialState.COMPLETE: 1>, value=0.25350341890488615, datetime_start=datetime.datetime(2019, 10, 3, 10, 54, 22, 173067), datetime_complete=datetime.datetime(2019, 10, 3, 10, 54, 22, 205241), params={'x': 1.4965087697835382}, distributions={'x': UniformDistribution(low=-10, high=10)}, user_attrs={}, system_attrs={'_number': 78}, intermediate_values={}, trial_id=78),\n",
       " FrozenTrial(number=79, state=<TrialState.COMPLETE: 1>, value=6.8046805959935455, datetime_start=datetime.datetime(2019, 10, 3, 10, 54, 22, 212695), datetime_complete=datetime.datetime(2019, 10, 3, 10, 54, 22, 246049), params={'x': 4.608578271011538}, distributions={'x': UniformDistribution(low=-10, high=10)}, user_attrs={}, system_attrs={'_number': 79}, intermediate_values={}, trial_id=79),\n",
       " FrozenTrial(number=80, state=<TrialState.COMPLETE: 1>, value=14.469288937085208, datetime_start=datetime.datetime(2019, 10, 3, 10, 54, 22, 253697), datetime_complete=datetime.datetime(2019, 10, 3, 10, 54, 22, 286671), params={'x': -1.8038518553020977}, distributions={'x': UniformDistribution(low=-10, high=10)}, user_attrs={}, system_attrs={'_number': 80}, intermediate_values={}, trial_id=80),\n",
       " FrozenTrial(number=81, state=<TrialState.COMPLETE: 1>, value=0.1377727458361547, datetime_start=datetime.datetime(2019, 10, 3, 10, 54, 22, 294569), datetime_complete=datetime.datetime(2019, 10, 3, 10, 54, 22, 327779), params={'x': 1.6288224874320176}, distributions={'x': UniformDistribution(low=-10, high=10)}, user_attrs={}, system_attrs={'_number': 81}, intermediate_values={}, trial_id=81),\n",
       " FrozenTrial(number=82, state=<TrialState.COMPLETE: 1>, value=0.012241261694044592, datetime_start=datetime.datetime(2019, 10, 3, 10, 54, 22, 335876), datetime_complete=datetime.datetime(2019, 10, 3, 10, 54, 22, 368183), params={'x': 2.110640235421137}, distributions={'x': UniformDistribution(low=-10, high=10)}, user_attrs={}, system_attrs={'_number': 82}, intermediate_values={}, trial_id=82),\n",
       " FrozenTrial(number=83, state=<TrialState.COMPLETE: 1>, value=0.8196301728862633, datetime_start=datetime.datetime(2019, 10, 3, 10, 54, 22, 376163), datetime_complete=datetime.datetime(2019, 10, 3, 10, 54, 22, 408709), params={'x': 2.9053342879214634}, distributions={'x': UniformDistribution(low=-10, high=10)}, user_attrs={}, system_attrs={'_number': 83}, intermediate_values={}, trial_id=83),\n",
       " FrozenTrial(number=84, state=<TrialState.COMPLETE: 1>, value=0.01758723434227307, datetime_start=datetime.datetime(2019, 10, 3, 10, 54, 22, 416628), datetime_complete=datetime.datetime(2019, 10, 3, 10, 54, 22, 449462), params={'x': 2.132616870503994}, distributions={'x': UniformDistribution(low=-10, high=10)}, user_attrs={}, system_attrs={'_number': 84}, intermediate_values={}, trial_id=84),\n",
       " FrozenTrial(number=85, state=<TrialState.COMPLETE: 1>, value=2.6888762199954694, datetime_start=datetime.datetime(2019, 10, 3, 10, 54, 22, 456960), datetime_complete=datetime.datetime(2019, 10, 3, 10, 54, 22, 489816), params={'x': 3.639779320517084}, distributions={'x': UniformDistribution(low=-10, high=10)}, user_attrs={}, system_attrs={'_number': 85}, intermediate_values={}, trial_id=85),\n",
       " FrozenTrial(number=86, state=<TrialState.COMPLETE: 1>, value=1.5331899444099573, datetime_start=datetime.datetime(2019, 10, 3, 10, 54, 22, 497779), datetime_complete=datetime.datetime(2019, 10, 3, 10, 54, 22, 530880), params={'x': 0.7617795251208461}, distributions={'x': UniformDistribution(low=-10, high=10)}, user_attrs={}, system_attrs={'_number': 86}, intermediate_values={}, trial_id=86),\n",
       " FrozenTrial(number=87, state=<TrialState.COMPLETE: 1>, value=4.071397070014664, datetime_start=datetime.datetime(2019, 10, 3, 10, 54, 22, 539145), datetime_complete=datetime.datetime(2019, 10, 3, 10, 54, 22, 571803), params={'x': -0.017770321422798663}, distributions={'x': UniformDistribution(low=-10, high=10)}, user_attrs={}, system_attrs={'_number': 87}, intermediate_values={}, trial_id=87),\n",
       " FrozenTrial(number=88, state=<TrialState.COMPLETE: 1>, value=1.475590040855313, datetime_start=datetime.datetime(2019, 10, 3, 10, 54, 22, 579991), datetime_complete=datetime.datetime(2019, 10, 3, 10, 54, 22, 612796), params={'x': 3.214738671836586}, distributions={'x': UniformDistribution(low=-10, high=10)}, user_attrs={}, system_attrs={'_number': 88}, intermediate_values={}, trial_id=88),\n",
       " FrozenTrial(number=89, state=<TrialState.COMPLETE: 1>, value=0.2555661130186615, datetime_start=datetime.datetime(2019, 10, 3, 10, 54, 22, 620609), datetime_complete=datetime.datetime(2019, 10, 3, 10, 54, 22, 652620), params={'x': 2.5055354715731246}, distributions={'x': UniformDistribution(low=-10, high=10)}, user_attrs={}, system_attrs={'_number': 89}, intermediate_values={}, trial_id=89),\n",
       " FrozenTrial(number=90, state=<TrialState.COMPLETE: 1>, value=6.840394552113957, datetime_start=datetime.datetime(2019, 10, 3, 10, 54, 22, 660934), datetime_complete=datetime.datetime(2019, 10, 3, 10, 54, 22, 693725), params={'x': -0.6154147954223164}, distributions={'x': UniformDistribution(low=-10, high=10)}, user_attrs={}, system_attrs={'_number': 90}, intermediate_values={}, trial_id=90),\n",
       " FrozenTrial(number=91, state=<TrialState.COMPLETE: 1>, value=0.011081743552689973, datetime_start=datetime.datetime(2019, 10, 3, 10, 54, 22, 702007), datetime_complete=datetime.datetime(2019, 10, 3, 10, 54, 22, 734310), params={'x': 2.1052698606092455}, distributions={'x': UniformDistribution(low=-10, high=10)}, user_attrs={}, system_attrs={'_number': 91}, intermediate_values={}, trial_id=91),\n",
       " FrozenTrial(number=92, state=<TrialState.COMPLETE: 1>, value=0.0002625289317362319, datetime_start=datetime.datetime(2019, 10, 3, 10, 54, 22, 742792), datetime_complete=datetime.datetime(2019, 10, 3, 10, 54, 22, 776029), params={'x': 1.9837972554258165}, distributions={'x': UniformDistribution(low=-10, high=10)}, user_attrs={}, system_attrs={'_number': 92}, intermediate_values={}, trial_id=92),\n",
       " FrozenTrial(number=93, state=<TrialState.COMPLETE: 1>, value=4.408374903020324, datetime_start=datetime.datetime(2019, 10, 3, 10, 54, 22, 784378), datetime_complete=datetime.datetime(2019, 10, 3, 10, 54, 22, 817284), params={'x': 4.0996130364951355}, distributions={'x': UniformDistribution(low=-10, high=10)}, user_attrs={}, system_attrs={'_number': 93}, intermediate_values={}, trial_id=93),\n",
       " FrozenTrial(number=94, state=<TrialState.COMPLETE: 1>, value=1.947583525640609, datetime_start=datetime.datetime(2019, 10, 3, 10, 54, 22, 825026), datetime_complete=datetime.datetime(2019, 10, 3, 10, 54, 22, 857535), params={'x': 0.6044415004591857}, distributions={'x': UniformDistribution(low=-10, high=10)}, user_attrs={}, system_attrs={'_number': 94}, intermediate_values={}, trial_id=94),\n",
       " FrozenTrial(number=95, state=<TrialState.COMPLETE: 1>, value=0.4138671855715072, datetime_start=datetime.datetime(2019, 10, 3, 10, 54, 22, 865423), datetime_complete=datetime.datetime(2019, 10, 3, 10, 54, 22, 898560), params={'x': 1.356674899004005}, distributions={'x': UniformDistribution(low=-10, high=10)}, user_attrs={}, system_attrs={'_number': 95}, intermediate_values={}, trial_id=95),\n",
       " FrozenTrial(number=96, state=<TrialState.COMPLETE: 1>, value=0.6169934296642753, datetime_start=datetime.datetime(2019, 10, 3, 10, 54, 22, 908175), datetime_complete=datetime.datetime(2019, 10, 3, 10, 54, 22, 941319), params={'x': 2.785489293156995}, distributions={'x': UniformDistribution(low=-10, high=10)}, user_attrs={}, system_attrs={'_number': 96}, intermediate_values={}, trial_id=96),\n",
       " FrozenTrial(number=97, state=<TrialState.COMPLETE: 1>, value=0.014998272012162769, datetime_start=datetime.datetime(2019, 10, 3, 10, 54, 22, 949886), datetime_complete=datetime.datetime(2019, 10, 3, 10, 54, 22, 982494), params={'x': 2.1224674324551747}, distributions={'x': UniformDistribution(low=-10, high=10)}, user_attrs={}, system_attrs={'_number': 97}, intermediate_values={}, trial_id=97),\n",
       " FrozenTrial(number=98, state=<TrialState.COMPLETE: 1>, value=2.1041085943588693, datetime_start=datetime.datetime(2019, 10, 3, 10, 54, 22, 991518), datetime_complete=datetime.datetime(2019, 10, 3, 10, 54, 23, 24998), params={'x': 3.4505545816545027}, distributions={'x': UniformDistribution(low=-10, high=10)}, user_attrs={}, system_attrs={'_number': 98}, intermediate_values={}, trial_id=98),\n",
       " FrozenTrial(number=99, state=<TrialState.COMPLETE: 1>, value=0.5256240574202102, datetime_start=datetime.datetime(2019, 10, 3, 10, 54, 23, 33932), datetime_complete=datetime.datetime(2019, 10, 3, 10, 54, 23, 67356), params={'x': 1.2750006500553188}, distributions={'x': UniformDistribution(low=-10, high=10)}, user_attrs={}, system_attrs={'_number': 99}, intermediate_values={}, trial_id=99)]"
      ]
     },
     "execution_count": 6,
     "metadata": {},
     "output_type": "execute_result"
    }
   ],
   "source": [
    "study.trials"
   ]
  },
  {
   "cell_type": "code",
   "execution_count": 7,
   "metadata": {},
   "outputs": [
    {
     "data": {
      "text/plain": [
       "100"
      ]
     },
     "execution_count": 7,
     "metadata": {},
     "output_type": "execute_result"
    }
   ],
   "source": [
    "len(study.trials)"
   ]
  },
  {
   "cell_type": "markdown",
   "metadata": {},
   "source": [
    "＃＃＃Advanced Configurations"
   ]
  },
  {
   "cell_type": "code",
   "execution_count": 8,
   "metadata": {},
   "outputs": [],
   "source": [
    "def objective(trial):\n",
    "    #Categorical parameter\n",
    "    optimizer =trial.suggest_categorical('optimizer',['MomnetumSGD','Adam'])\n",
    "    \n",
    "    #Int parameter\n",
    "    num_layers = trial.suggest_int('num_layers',1,3)\n",
    "    \n",
    "    #uniform parameter\n",
    "    dropout_rate = trial.suggest_uniform('dropout_rate',0.0,1.0)\n",
    "    \n",
    "    #Longuniform parameter\n",
    "    learning_rate = trial.suggest_longuniform('learning_rate',1e-5,1e-2)\n",
    "    \n",
    "    #Discrete-uniform parameter\n",
    "    drop_path_rate = trial.suggest_descrete_uniform('drop_path_rate',0.0,1.0,0.1)"
   ]
  },
  {
   "cell_type": "code",
   "execution_count": 9,
   "metadata": {},
   "outputs": [
    {
     "ename": "SyntaxError",
     "evalue": "unexpected EOF while parsing (<ipython-input-9-be79138843cf>, line 9)",
     "output_type": "error",
     "traceback": [
      "\u001b[0;36m  File \u001b[0;32m\"<ipython-input-9-be79138843cf>\"\u001b[0;36m, line \u001b[0;32m9\u001b[0m\n\u001b[0;31m    \u001b[0m\n\u001b[0m    ^\u001b[0m\n\u001b[0;31mSyntaxError\u001b[0m\u001b[0;31m:\u001b[0m unexpected EOF while parsing\n"
     ]
    }
   ],
   "source": [
    "def objective(trial):\n",
    "    classifier_name = trial.suggest_categorical('classifier',['SVC','RandomForest'])\n",
    "    if classifier_name =='SVC':\n",
    "        svc_c =trial.suggest_longuniform('svc_c',1e-10,1e10)\n",
    "        classifier_obj = sklearn.svm.SVC(C=svc_c)\n",
    "    else:\n",
    "        \n",
    "        \n",
    "        "
   ]
  },
  {
   "cell_type": "code",
   "execution_count": null,
   "metadata": {},
   "outputs": [],
   "source": [
    "def create_model(trial):\n",
    "    n_layers = trial.suggest_int('n_layers',1,3)\n",
    "    \n",
    "    layers = []\n",
    "    for i in range(n_layers):\n",
    "        n_units = int(trial.suggest_longuniform('n_units_l{}'.format(i),4,128))\n",
    "        layers.append(L.Linear(None, n_units))\n",
    "        layers.append((F.relu))\n",
    "    layers.append(L.Linear(None,10))\n",
    "    return chainer.Sequential(*layers)\n"
   ]
  },
  {
   "cell_type": "code",
   "execution_count": null,
   "metadata": {},
   "outputs": [],
   "source": [
    "study.best_params  # Get best parameters for the objective function.\n",
    "study.best_value  # Get best objective value.\n",
    "study.best_trial  # Get best trial's information.\n",
    "study.trials  # Get all trials' information."
   ]
  },
  {
   "cell_type": "code",
   "execution_count": 10,
   "metadata": {},
   "outputs": [
    {
     "name": "stderr",
     "output_type": "stream",
     "text": [
      "[I 2019-10-03 10:54:30,008] Finished trial#0 resulted in value: 0.1578947368421053. Current best value is 0.1578947368421053 with parameters: {'alpha': 0.028849279692129262}.\n",
      "[I 2019-10-03 10:54:30,183] Finished trial#1 resulted in value: 0.052631578947368474. Current best value is 0.052631578947368474 with parameters: {'alpha': 0.010906160491942277}.\n",
      "[I 2019-10-03 10:54:30,401] Finished trial#2 resulted in value: 0.23684210526315785. Current best value is 0.052631578947368474 with parameters: {'alpha': 0.010906160491942277}.\n",
      "[I 2019-10-03 10:54:30,645] Finished trial#3 resulted in value: 0.052631578947368474. Current best value is 0.052631578947368474 with parameters: {'alpha': 0.010906160491942277}.\n",
      "[I 2019-10-03 10:54:30,917] Finished trial#4 resulted in value: 0.052631578947368474. Current best value is 0.052631578947368474 with parameters: {'alpha': 0.010906160491942277}.\n",
      "[I 2019-10-03 10:54:30,928] Setting status of trial#5 as TrialState.PRUNED. \n",
      "[I 2019-10-03 10:54:30,978] Setting status of trial#6 as TrialState.PRUNED. \n",
      "[I 2019-10-03 10:54:31,074] Setting status of trial#7 as TrialState.PRUNED. \n",
      "[I 2019-10-03 10:54:31,123] Setting status of trial#8 as TrialState.PRUNED. \n",
      "[I 2019-10-03 10:54:31,459] Finished trial#9 resulted in value: 0.13157894736842102. Current best value is 0.052631578947368474 with parameters: {'alpha': 0.010906160491942277}.\n",
      "[I 2019-10-03 10:54:31,472] Setting status of trial#10 as TrialState.PRUNED. \n",
      "[I 2019-10-03 10:54:31,522] Setting status of trial#11 as TrialState.PRUNED. \n",
      "[I 2019-10-03 10:54:31,930] Finished trial#12 resulted in value: 0.07894736842105265. Current best value is 0.052631578947368474 with parameters: {'alpha': 0.010906160491942277}.\n",
      "[I 2019-10-03 10:54:31,945] Setting status of trial#13 as TrialState.PRUNED. \n",
      "[I 2019-10-03 10:54:31,999] Setting status of trial#14 as TrialState.PRUNED. \n",
      "[I 2019-10-03 10:54:32,054] Setting status of trial#15 as TrialState.PRUNED. \n",
      "[I 2019-10-03 10:54:32,108] Setting status of trial#16 as TrialState.PRUNED. \n",
      "[I 2019-10-03 10:54:32,520] Finished trial#17 resulted in value: 0.3157894736842105. Current best value is 0.052631578947368474 with parameters: {'alpha': 0.010906160491942277}.\n",
      "[I 2019-10-03 10:54:32,534] Setting status of trial#18 as TrialState.PRUNED. \n",
      "[I 2019-10-03 10:54:32,989] Finished trial#19 resulted in value: 0.07894736842105265. Current best value is 0.052631578947368474 with parameters: {'alpha': 0.010906160491942277}.\n"
     ]
    }
   ],
   "source": [
    "\"\"\"filename: prune.py\"\"\"\n",
    "\n",
    "import sklearn.datasets\n",
    "import sklearn.linear_model\n",
    "import sklearn.model_selection\n",
    "\n",
    "import optuna\n",
    "\n",
    "def objective(trial):\n",
    "    iris = sklearn.datasets.load_iris()\n",
    "    classes = list(set(iris.target))\n",
    "    train_x, test_x, train_y, test_y = \\\n",
    "        sklearn.model_selection.train_test_split(iris.data, iris.target, test_size=0.25, random_state=0)\n",
    "\n",
    "    alpha = trial.suggest_loguniform('alpha', 1e-5, 1e-1)\n",
    "    clf = sklearn.linear_model.SGDClassifier(alpha=alpha)\n",
    "\n",
    "    for step in range(100):\n",
    "        clf.partial_fit(train_x, train_y, classes=classes)\n",
    "\n",
    "        # Report intermediate objective value.\n",
    "        intermediate_value = 1.0 - clf.score(test_x, test_y)\n",
    "        trial.report(intermediate_value, step)\n",
    "\n",
    "        # Handle pruning based on the intermediate value.\n",
    "        if trial.should_prune():\n",
    "            raise optuna.structs.TrialPruned()\n",
    "\n",
    "    return 1.0 - clf.score(test_x, test_y)\n",
    "\n",
    "# Set up the median stopping rule as the pruning condition.\n",
    "study = optuna.create_study(pruner=optuna.pruners.MedianPruner())\n",
    "study.optimize(objective, n_trials=20)"
   ]
  },
  {
   "cell_type": "code",
   "execution_count": 1,
   "metadata": {},
   "outputs": [],
   "source": [
    "import matplotlib as plt\n",
    "import numpy as np\n",
    "import pandas as pd\n",
    "import pandas_profiling as pdp\n",
    "import matplotlib.pyplot as plt"
   ]
  },
  {
   "cell_type": "code",
   "execution_count": 2,
   "metadata": {},
   "outputs": [
    {
     "data": {
      "text/html": [
       "<div>\n",
       "<style scoped>\n",
       "    .dataframe tbody tr th:only-of-type {\n",
       "        vertical-align: middle;\n",
       "    }\n",
       "\n",
       "    .dataframe tbody tr th {\n",
       "        vertical-align: top;\n",
       "    }\n",
       "\n",
       "    .dataframe thead th {\n",
       "        text-align: right;\n",
       "    }\n",
       "</style>\n",
       "<table border=\"1\" class=\"dataframe\">\n",
       "  <thead>\n",
       "    <tr style=\"text-align: right;\">\n",
       "      <th></th>\n",
       "      <th>Unnamed: 0</th>\n",
       "      <th>id</th>\n",
       "      <th>築年数</th>\n",
       "      <th>方角</th>\n",
       "      <th>面積</th>\n",
       "      <th>所在階</th>\n",
       "      <th>駐車場</th>\n",
       "      <th>周辺環境</th>\n",
       "      <th>建物構造</th>\n",
       "      <th>契約期間</th>\n",
       "      <th>...</th>\n",
       "      <th>プロパンガス</th>\n",
       "      <th>タイル張り</th>\n",
       "      <th>24時間換気システム</th>\n",
       "      <th>2面採光</th>\n",
       "      <th>3面採光</th>\n",
       "      <th>床暖房</th>\n",
       "      <th>出窓</th>\n",
       "      <th>クッションフロア</th>\n",
       "      <th>ロフト</th>\n",
       "      <th>冷房</th>\n",
       "    </tr>\n",
       "  </thead>\n",
       "  <tbody>\n",
       "    <tr>\n",
       "      <th>0</th>\n",
       "      <td>0</td>\n",
       "      <td>31471</td>\n",
       "      <td>49年0ヶ月</td>\n",
       "      <td>南</td>\n",
       "      <td>50.22m2</td>\n",
       "      <td>8階／8階建</td>\n",
       "      <td>駐輪場\\t空有\\t駐車場\\t無\\tバイク置き場\\t無</td>\n",
       "      <td>【コンビニ】 74m\\t【スーパー】 215m\\t【病院】 313m\\t【小学校】 219m...</td>\n",
       "      <td>鉄骨造</td>\n",
       "      <td>NaN</td>\n",
       "      <td>...</td>\n",
       "      <td>False</td>\n",
       "      <td>False</td>\n",
       "      <td>False</td>\n",
       "      <td>False</td>\n",
       "      <td>False</td>\n",
       "      <td>False</td>\n",
       "      <td>False</td>\n",
       "      <td>False</td>\n",
       "      <td>False</td>\n",
       "      <td>False</td>\n",
       "    </tr>\n",
       "    <tr>\n",
       "      <th>1</th>\n",
       "      <td>1</td>\n",
       "      <td>31472</td>\n",
       "      <td>0年2ヶ月</td>\n",
       "      <td>南東</td>\n",
       "      <td>20.88m2</td>\n",
       "      <td>3階／4階建</td>\n",
       "      <td>駐車場\\t近隣\\t34,000円(税込)\\t距離200m\\t駐輪場\\t無\\tバイク置き場\\t無</td>\n",
       "      <td>【スーパー】 128m\\t【スーパー】 313m\\t【コンビニ】 374m\\t【コンビニ】 ...</td>\n",
       "      <td>RC（鉄筋コンクリート）</td>\n",
       "      <td>2年間</td>\n",
       "      <td>...</td>\n",
       "      <td>False</td>\n",
       "      <td>False</td>\n",
       "      <td>False</td>\n",
       "      <td>False</td>\n",
       "      <td>False</td>\n",
       "      <td>False</td>\n",
       "      <td>False</td>\n",
       "      <td>False</td>\n",
       "      <td>False</td>\n",
       "      <td>False</td>\n",
       "    </tr>\n",
       "    <tr>\n",
       "      <th>2</th>\n",
       "      <td>2</td>\n",
       "      <td>31473</td>\n",
       "      <td>23年4ヶ月</td>\n",
       "      <td>南東</td>\n",
       "      <td>26.93m2</td>\n",
       "      <td>1階／4階建</td>\n",
       "      <td>駐車場\\t空有\\t5,000円(税込)\\t(敷金あり\\t1ヶ月)\\t駐輪場\\t空有\\tバイク...</td>\n",
       "      <td>【スーパー】 529m\\t【スーパー】 810m\\t【コンビニ】 316m\\t【コンビニ】 ...</td>\n",
       "      <td>鉄骨造</td>\n",
       "      <td>2年間</td>\n",
       "      <td>...</td>\n",
       "      <td>False</td>\n",
       "      <td>True</td>\n",
       "      <td>False</td>\n",
       "      <td>True</td>\n",
       "      <td>False</td>\n",
       "      <td>False</td>\n",
       "      <td>False</td>\n",
       "      <td>False</td>\n",
       "      <td>False</td>\n",
       "      <td>False</td>\n",
       "    </tr>\n",
       "    <tr>\n",
       "      <th>3</th>\n",
       "      <td>3</td>\n",
       "      <td>31474</td>\n",
       "      <td>36年2ヶ月</td>\n",
       "      <td>南東</td>\n",
       "      <td>23.57m2</td>\n",
       "      <td>1階／2階建</td>\n",
       "      <td>駐輪場\\t空有\\t0円</td>\n",
       "      <td>【スーパー】 286m\\t【スーパー】 702m\\t【コンビニ】 489m\\t【コンビニ】 ...</td>\n",
       "      <td>木造</td>\n",
       "      <td>2年間</td>\n",
       "      <td>...</td>\n",
       "      <td>False</td>\n",
       "      <td>False</td>\n",
       "      <td>False</td>\n",
       "      <td>True</td>\n",
       "      <td>False</td>\n",
       "      <td>False</td>\n",
       "      <td>False</td>\n",
       "      <td>False</td>\n",
       "      <td>False</td>\n",
       "      <td>False</td>\n",
       "    </tr>\n",
       "    <tr>\n",
       "      <th>4</th>\n",
       "      <td>4</td>\n",
       "      <td>31475</td>\n",
       "      <td>45年4ヶ月</td>\n",
       "      <td>南</td>\n",
       "      <td>50m2</td>\n",
       "      <td>4階／4階建</td>\n",
       "      <td>駐車場\\t近隣\\t22,600円\\t距離177m</td>\n",
       "      <td>【コンビニ】 312m\\t【コンビニ】 436m\\t【スーパー】 902m\\t【コンビニ】 ...</td>\n",
       "      <td>RC（鉄筋コンクリート）</td>\n",
       "      <td>2年間</td>\n",
       "      <td>...</td>\n",
       "      <td>False</td>\n",
       "      <td>False</td>\n",
       "      <td>False</td>\n",
       "      <td>False</td>\n",
       "      <td>False</td>\n",
       "      <td>False</td>\n",
       "      <td>False</td>\n",
       "      <td>False</td>\n",
       "      <td>False</td>\n",
       "      <td>True</td>\n",
       "    </tr>\n",
       "  </tbody>\n",
       "</table>\n",
       "<p>5 rows × 119 columns</p>\n",
       "</div>"
      ],
      "text/plain": [
       "   Unnamed: 0     id     築年数  方角       面積     所在階  \\\n",
       "0           0  31471  49年0ヶ月   南  50.22m2  8階／8階建   \n",
       "1           1  31472   0年2ヶ月  南東  20.88m2  3階／4階建   \n",
       "2           2  31473  23年4ヶ月  南東  26.93m2  1階／4階建   \n",
       "3           3  31474  36年2ヶ月  南東  23.57m2  1階／2階建   \n",
       "4           4  31475  45年4ヶ月   南     50m2  4階／4階建   \n",
       "\n",
       "                                                 駐車場  \\\n",
       "0                         駐輪場\\t空有\\t駐車場\\t無\\tバイク置き場\\t無   \n",
       "1    駐車場\\t近隣\\t34,000円(税込)\\t距離200m\\t駐輪場\\t無\\tバイク置き場\\t無   \n",
       "2  駐車場\\t空有\\t5,000円(税込)\\t(敷金あり\\t1ヶ月)\\t駐輪場\\t空有\\tバイク...   \n",
       "3                                        駐輪場\\t空有\\t0円   \n",
       "4                           駐車場\\t近隣\\t22,600円\\t距離177m   \n",
       "\n",
       "                                                周辺環境          建物構造 契約期間  ...  \\\n",
       "0  【コンビニ】 74m\\t【スーパー】 215m\\t【病院】 313m\\t【小学校】 219m...           鉄骨造  NaN  ...   \n",
       "1  【スーパー】 128m\\t【スーパー】 313m\\t【コンビニ】 374m\\t【コンビニ】 ...  RC（鉄筋コンクリート）  2年間  ...   \n",
       "2  【スーパー】 529m\\t【スーパー】 810m\\t【コンビニ】 316m\\t【コンビニ】 ...           鉄骨造  2年間  ...   \n",
       "3  【スーパー】 286m\\t【スーパー】 702m\\t【コンビニ】 489m\\t【コンビニ】 ...            木造  2年間  ...   \n",
       "4  【コンビニ】 312m\\t【コンビニ】 436m\\t【スーパー】 902m\\t【コンビニ】 ...  RC（鉄筋コンクリート）  2年間  ...   \n",
       "\n",
       "  プロパンガス  タイル張り  24時間換気システム   2面採光   3面採光    床暖房     出窓  クッションフロア    ロフト  \\\n",
       "0  False  False       False  False  False  False  False     False  False   \n",
       "1  False  False       False  False  False  False  False     False  False   \n",
       "2  False   True       False   True  False  False  False     False  False   \n",
       "3  False  False       False   True  False  False  False     False  False   \n",
       "4  False  False       False  False  False  False  False     False  False   \n",
       "\n",
       "      冷房  \n",
       "0  False  \n",
       "1  False  \n",
       "2  False  \n",
       "3  False  \n",
       "4   True  \n",
       "\n",
       "[5 rows x 119 columns]"
      ]
     },
     "execution_count": 2,
     "metadata": {},
     "output_type": "execute_result"
    }
   ],
   "source": [
    "train = pd.read_csv('./train.csv')\n",
    "test = pd.read_csv('./test.csv')\n",
    "test.head()"
   ]
  },
  {
   "cell_type": "code",
   "execution_count": 3,
   "metadata": {},
   "outputs": [
    {
     "name": "stderr",
     "output_type": "stream",
     "text": [
      "/Users/masatoota/anaconda3/lib/python3.7/site-packages/lightgbm/__init__.py:46: UserWarning: Starting from version 2.2.1, the library file in distribution wheels for macOS is built by the Apple Clang (Xcode_8.3.3) compiler.\n",
      "This means that in case of installing LightGBM from PyPI via the ``pip install lightgbm`` command, you don't need to install the gcc compiler anymore.\n",
      "Instead of that, you need to install the OpenMP library, which is required for running LightGBM on the system with the Apple Clang compiler.\n",
      "You can install the OpenMP library by the following command: ``brew install libomp``.\n",
      "  \"You can install the OpenMP library by the following command: ``brew install libomp``.\", UserWarning)\n"
     ]
    }
   ],
   "source": [
    "import lightgbm as lgb\n",
    "import optuna"
   ]
  },
  {
   "cell_type": "code",
   "execution_count": 8,
   "metadata": {},
   "outputs": [
    {
     "name": "stdout",
     "output_type": "stream",
     "text": [
      "Training until validation scores don't improve for 200 rounds.\n",
      "[200]\ttraining's rmse: 139669\tvalid_1's rmse: 140700\n",
      "Early stopping, best iteration is:\n",
      "[1]\ttraining's rmse: 139669\tvalid_1's rmse: 140700\n"
     ]
    },
    {
     "name": "stderr",
     "output_type": "stream",
     "text": [
      "[W 2019-10-03 23:00:46,653] Setting status of trial#0 as TrialState.FAIL because the returned value from the objective function cannot be casted to float. Returned value is: None\n"
     ]
    },
    {
     "name": "stdout",
     "output_type": "stream",
     "text": [
      "Training until validation scores don't improve for 200 rounds.\n",
      "[200]\ttraining's rmse: 139669\tvalid_1's rmse: 140700\n",
      "Early stopping, best iteration is:\n",
      "[1]\ttraining's rmse: 139669\tvalid_1's rmse: 140700\n"
     ]
    },
    {
     "name": "stderr",
     "output_type": "stream",
     "text": [
      "[W 2019-10-03 23:00:47,052] Setting status of trial#1 as TrialState.FAIL because the returned value from the objective function cannot be casted to float. Returned value is: None\n"
     ]
    },
    {
     "name": "stdout",
     "output_type": "stream",
     "text": [
      "Training until validation scores don't improve for 200 rounds.\n",
      "[200]\ttraining's rmse: 139669\tvalid_1's rmse: 140700\n",
      "Early stopping, best iteration is:\n",
      "[1]\ttraining's rmse: 139669\tvalid_1's rmse: 140700\n"
     ]
    },
    {
     "name": "stderr",
     "output_type": "stream",
     "text": [
      "[W 2019-10-03 23:00:47,444] Setting status of trial#2 as TrialState.FAIL because the returned value from the objective function cannot be casted to float. Returned value is: None\n"
     ]
    },
    {
     "name": "stdout",
     "output_type": "stream",
     "text": [
      "Training until validation scores don't improve for 200 rounds.\n",
      "[200]\ttraining's rmse: 139669\tvalid_1's rmse: 140700\n",
      "Early stopping, best iteration is:\n",
      "[1]\ttraining's rmse: 139669\tvalid_1's rmse: 140700\n"
     ]
    },
    {
     "name": "stderr",
     "output_type": "stream",
     "text": [
      "[W 2019-10-03 23:00:47,844] Setting status of trial#3 as TrialState.FAIL because the returned value from the objective function cannot be casted to float. Returned value is: None\n"
     ]
    },
    {
     "name": "stdout",
     "output_type": "stream",
     "text": [
      "Training until validation scores don't improve for 200 rounds.\n",
      "[200]\ttraining's rmse: 139669\tvalid_1's rmse: 140700\n",
      "Early stopping, best iteration is:\n",
      "[1]\ttraining's rmse: 139669\tvalid_1's rmse: 140700\n"
     ]
    },
    {
     "name": "stderr",
     "output_type": "stream",
     "text": [
      "[W 2019-10-03 23:00:48,238] Setting status of trial#4 as TrialState.FAIL because the returned value from the objective function cannot be casted to float. Returned value is: None\n"
     ]
    },
    {
     "name": "stdout",
     "output_type": "stream",
     "text": [
      "Training until validation scores don't improve for 200 rounds.\n",
      "[200]\ttraining's rmse: 139669\tvalid_1's rmse: 140700\n",
      "Early stopping, best iteration is:\n",
      "[1]\ttraining's rmse: 139669\tvalid_1's rmse: 140700\n"
     ]
    },
    {
     "name": "stderr",
     "output_type": "stream",
     "text": [
      "[W 2019-10-03 23:00:48,643] Setting status of trial#5 as TrialState.FAIL because the returned value from the objective function cannot be casted to float. Returned value is: None\n"
     ]
    },
    {
     "name": "stdout",
     "output_type": "stream",
     "text": [
      "Training until validation scores don't improve for 200 rounds.\n",
      "[200]\ttraining's rmse: 139669\tvalid_1's rmse: 140700\n",
      "Early stopping, best iteration is:\n",
      "[1]\ttraining's rmse: 139669\tvalid_1's rmse: 140700\n"
     ]
    },
    {
     "name": "stderr",
     "output_type": "stream",
     "text": [
      "[W 2019-10-03 23:00:49,096] Setting status of trial#6 as TrialState.FAIL because the returned value from the objective function cannot be casted to float. Returned value is: None\n"
     ]
    },
    {
     "name": "stdout",
     "output_type": "stream",
     "text": [
      "Training until validation scores don't improve for 200 rounds.\n",
      "[200]\ttraining's rmse: 139669\tvalid_1's rmse: 140700\n",
      "Early stopping, best iteration is:\n",
      "[1]\ttraining's rmse: 139669\tvalid_1's rmse: 140700\n"
     ]
    },
    {
     "name": "stderr",
     "output_type": "stream",
     "text": [
      "[W 2019-10-03 23:00:49,717] Setting status of trial#7 as TrialState.FAIL because the returned value from the objective function cannot be casted to float. Returned value is: None\n"
     ]
    },
    {
     "name": "stdout",
     "output_type": "stream",
     "text": [
      "Training until validation scores don't improve for 200 rounds.\n",
      "[200]\ttraining's rmse: 139669\tvalid_1's rmse: 140700\n",
      "Early stopping, best iteration is:\n",
      "[1]\ttraining's rmse: 139669\tvalid_1's rmse: 140700\n"
     ]
    },
    {
     "name": "stderr",
     "output_type": "stream",
     "text": [
      "[W 2019-10-03 23:00:50,011] Setting status of trial#8 as TrialState.FAIL because the returned value from the objective function cannot be casted to float. Returned value is: None\n"
     ]
    },
    {
     "name": "stdout",
     "output_type": "stream",
     "text": [
      "Training until validation scores don't improve for 200 rounds.\n",
      "[200]\ttraining's rmse: 139669\tvalid_1's rmse: 140700\n",
      "Early stopping, best iteration is:\n",
      "[1]\ttraining's rmse: 139669\tvalid_1's rmse: 140700\n"
     ]
    },
    {
     "name": "stderr",
     "output_type": "stream",
     "text": [
      "[W 2019-10-03 23:00:50,350] Setting status of trial#9 as TrialState.FAIL because the returned value from the objective function cannot be casted to float. Returned value is: None\n"
     ]
    }
   ],
   "source": [
    "from sklearn.model_selection import train_test_split\n",
    "from sklearn.metrics import accuracy_score\n",
    "\n",
    "X_train = train.drop(['Unnamed: 0','id', '賃料','築年数', '方角', '面積', '所在階', '駐車場','周辺環境', '建物構造', '契約期間', '区'], axis=1)\n",
    "y_train = train['賃料']\n",
    "#X_test = test.drop(['id'], axis=1)\n",
    "#X_trainとy_trainをtrain とvalidに分割\n",
    "train_x,valid_x,train_y,valid_y = train_test_split(X_train,y_train,test_size=0.33,random_state=0)\n",
    "#lgb.Datasetでtrainとvalidを作っておく\n",
    "lgb_train = lgb.Dataset(train_x,train_y)\n",
    "lgb_eval =lgb.Dataset(valid_x,valid_y)\n",
    "\n",
    "def objective(trial):\n",
    "    drop_rate = trial.suggest_uniform('drop_rate', 0, 1.0)\n",
    "    feature_fraction = trial.suggest_uniform('feature_fraction', 0, 1.0)\n",
    "    learning_rate = trial.suggest_uniform('learning_rate', 0, 1.0)\n",
    "    subsample = trial.suggest_uniform('subsample', 0.8, 1.0)\n",
    "    num_leaves = trial.suggest_int('num_leaves', 5, 1000)\n",
    "    verbosity = trial.suggest_int('verbosity', -1, 1)\n",
    "    num_boost_round = trial.suggest_int('num_boost_round', 10, 100000)\n",
    "    min_data_in_leaf = trial.suggest_int('min_data_in_leaf', 10, 100000)\n",
    "    min_child_samples = trial.suggest_int('min_child_samples', 5, 100)\n",
    "    min_child_weight = trial.suggest_int('min_child_weight', 5, 500)\n",
    "    #パラメータの定義\n",
    "    params = {\"objective\": \"regression\",\n",
    "              \"metric\": 'rmse',\n",
    "              \"boosting_type\": \"gbdt\",\n",
    "              \"learning_rate\": learning_rate,\n",
    "              \"num_leaves\": num_leaves,\n",
    "              \"max_bin\": 255,\n",
    "              'colsample_bytree': 0.8,\n",
    "              'subsample': 0.8,\n",
    "              \"feature_fraction\": feature_fraction,\n",
    "              \"verbosity\": verbosity,\n",
    "              \"drop_rate\": drop_rate,\n",
    "              \"is_unbalance\": False,\n",
    "              \"max_drop\": 50,\n",
    "              \"min_child_samples\": min_child_samples,\n",
    "              \"min_child_weight\": min_child_weight,\n",
    "              \"min_split_gain\": 0,\n",
    "              \"min_data_in_leaf\": min_data_in_leaf,\n",
    "              \"subsample\": subsample,\n",
    "              'seed': 1,\n",
    "              }\n",
    "    eval_result = {}\n",
    "    gbm =lgb.train( params,\n",
    "                            train_set = lgb_train,\n",
    "                            valid_sets = [lgb_train,lgb_eval],\n",
    "                            num_boost_round=5000, \n",
    "                            early_stopping_rounds = 200,\n",
    "                            evals_result = eval_result,\n",
    "                            verbose_eval = 100)\n",
    "\n",
    "\n",
    "study = optuna.create_study()\n",
    "study.optimize(objective, n_trials=10)"
   ]
  },
  {
   "cell_type": "code",
   "execution_count": 8,
   "metadata": {},
   "outputs": [
    {
     "data": {
      "text/plain": [
       "array([280106.21313324, 123859.76403083,  80060.56630956, ...,\n",
       "       186066.29238371, 233638.77666212,  86661.92538831])"
      ]
     },
     "execution_count": 8,
     "metadata": {},
     "output_type": "execute_result"
    }
   ],
   "source": [
    "oof = gbm.predict(test.drop(['Unnamed: 0','id','築年数', '方角', '面積', '所在階', '駐車場','周辺環境', '建物構造', '契約期間', '区'], axis=1))\n",
    "oof"
   ]
  },
  {
   "cell_type": "code",
   "execution_count": 9,
   "metadata": {},
   "outputs": [
    {
     "data": {
      "text/plain": [
       "<matplotlib.legend.Legend at 0x1a24dc4c88>"
      ]
     },
     "execution_count": 9,
     "metadata": {},
     "output_type": "execute_result"
    },
    {
     "name": "stderr",
     "output_type": "stream",
     "text": [
      "/Users/masatoota/anaconda3/lib/python3.7/site-packages/matplotlib/font_manager.py:1241: UserWarning: findfont: Font family ['sans-serif'] not found. Falling back to DejaVu Sans.\n",
      "  (prop.get_family(), self.defaultFamily[fontext]))\n"
     ]
    },
    {
     "data": {
      "image/png": "[encoded data removed]",
      "text/plain": [
       "<Figure size 432x288 with 1 Axes>"
      ]
     },
     "metadata": {
      "needs_background": "light"
     },
     "output_type": "display_data"
    }
   ],
   "source": [
    "plt.plot(eval_result['training']['rmse'],label='train_loss')\n",
    "plt.plot(eval_result['valid_1']['rmse'],label='valid_loss')\n",
    "plt.legend()"
   ]
  },
  {
   "cell_type": "code",
   "execution_count": null,
   "metadata": {},
   "outputs": [],
   "source": [
    "#駅名の連結を表す隣接グラフの構築\n"
   ]
  }
 ],
 "metadata": {
  "kernelspec": {
   "display_name": "Python 3",
   "language": "python",
   "name": "python3"
  },
  "language_info": {
   "codemirror_mode": {
    "name": "ipython",
    "version": 3
   },
   "file_extension": ".py",
   "mimetype": "text/x-python",
   "name": "python",
   "nbconvert_exporter": "python",
   "pygments_lexer": "ipython3",
   "version": "3.7.3"
  }
 },
 "nbformat": 4,
 "nbformat_minor": 2
}
